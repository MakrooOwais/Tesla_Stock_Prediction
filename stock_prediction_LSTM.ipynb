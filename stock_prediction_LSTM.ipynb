{
 "cells": [
  {
   "cell_type": "code",
   "execution_count": 1,
   "metadata": {},
   "outputs": [
    {
     "data": {
      "application/javascript": "\n            setTimeout(function() {\n                var nbb_cell_id = 1;\n                var nbb_unformatted_code = \"%load_ext nb_black\\n%load_ext lab_black\";\n                var nbb_formatted_code = \"%load_ext nb_black\\n%load_ext lab_black\";\n                var nbb_cells = Jupyter.notebook.get_cells();\n                for (var i = 0; i < nbb_cells.length; ++i) {\n                    if (nbb_cells[i].input_prompt_number == nbb_cell_id) {\n                        if (nbb_cells[i].get_text() == nbb_unformatted_code) {\n                             nbb_cells[i].set_text(nbb_formatted_code);\n                        }\n                        break;\n                    }\n                }\n            }, 500);\n            ",
      "text/plain": [
       "<IPython.core.display.Javascript object>"
      ]
     },
     "metadata": {},
     "output_type": "display_data"
    }
   ],
   "source": [
    "%load_ext nb_black\n",
    "%load_ext lab_black"
   ]
  },
  {
   "cell_type": "code",
   "execution_count": 2,
   "metadata": {},
   "outputs": [
    {
     "data": {
      "application/javascript": "\n            setTimeout(function() {\n                var nbb_cell_id = 2;\n                var nbb_unformatted_code = \"import numpy as np\\nimport matplotlib.pyplot as plt\\nimport pandas as pd\";\n                var nbb_formatted_code = \"import numpy as np\\nimport matplotlib.pyplot as plt\\nimport pandas as pd\";\n                var nbb_cells = Jupyter.notebook.get_cells();\n                for (var i = 0; i < nbb_cells.length; ++i) {\n                    if (nbb_cells[i].input_prompt_number == nbb_cell_id) {\n                        if (nbb_cells[i].get_text() == nbb_unformatted_code) {\n                             nbb_cells[i].set_text(nbb_formatted_code);\n                        }\n                        break;\n                    }\n                }\n            }, 500);\n            ",
      "text/plain": [
       "<IPython.core.display.Javascript object>"
      ]
     },
     "metadata": {},
     "output_type": "display_data"
    }
   ],
   "source": [
    "import numpy as np\n",
    "import matplotlib.pyplot as plt\n",
    "import pandas as pd"
   ]
  },
  {
   "cell_type": "code",
   "execution_count": 3,
   "metadata": {},
   "outputs": [
    {
     "data": {
      "application/javascript": "\n            setTimeout(function() {\n                var nbb_cell_id = 3;\n                var nbb_unformatted_code = \"dataset = pd.read_csv(\\n    \\\"TSLA.csv\\\",\\n    na_values=[\\\"null\\\"],\\n    index_col=\\\"Date\\\",\\n    parse_dates=True,\\n    infer_datetime_format=True,\\n)\";\n                var nbb_formatted_code = \"dataset = pd.read_csv(\\n    \\\"TSLA.csv\\\",\\n    na_values=[\\\"null\\\"],\\n    index_col=\\\"Date\\\",\\n    parse_dates=True,\\n    infer_datetime_format=True,\\n)\";\n                var nbb_cells = Jupyter.notebook.get_cells();\n                for (var i = 0; i < nbb_cells.length; ++i) {\n                    if (nbb_cells[i].input_prompt_number == nbb_cell_id) {\n                        if (nbb_cells[i].get_text() == nbb_unformatted_code) {\n                             nbb_cells[i].set_text(nbb_formatted_code);\n                        }\n                        break;\n                    }\n                }\n            }, 500);\n            ",
      "text/plain": [
       "<IPython.core.display.Javascript object>"
      ]
     },
     "metadata": {},
     "output_type": "display_data"
    }
   ],
   "source": [
    "dataset = pd.read_csv(\n",
    "    \"TSLA.csv\",\n",
    "    na_values=[\"null\"],\n",
    "    index_col=\"Date\",\n",
    "    parse_dates=True,\n",
    "    infer_datetime_format=True,\n",
    ")"
   ]
  },
  {
   "cell_type": "code",
   "execution_count": 4,
   "metadata": {},
   "outputs": [
    {
     "data": {
      "application/javascript": "\n            setTimeout(function() {\n                var nbb_cell_id = 4;\n                var nbb_unformatted_code = \"Y = pd.DataFrame(dataset[\\\"Adj Close\\\"])\\nfeatures = [\\\"Open\\\", \\\"High\\\", \\\"Low\\\", \\\"Volume\\\"]\";\n                var nbb_formatted_code = \"Y = pd.DataFrame(dataset[\\\"Adj Close\\\"])\\nfeatures = [\\\"Open\\\", \\\"High\\\", \\\"Low\\\", \\\"Volume\\\"]\";\n                var nbb_cells = Jupyter.notebook.get_cells();\n                for (var i = 0; i < nbb_cells.length; ++i) {\n                    if (nbb_cells[i].input_prompt_number == nbb_cell_id) {\n                        if (nbb_cells[i].get_text() == nbb_unformatted_code) {\n                             nbb_cells[i].set_text(nbb_formatted_code);\n                        }\n                        break;\n                    }\n                }\n            }, 500);\n            ",
      "text/plain": [
       "<IPython.core.display.Javascript object>"
      ]
     },
     "metadata": {},
     "output_type": "display_data"
    }
   ],
   "source": [
    "Y = pd.DataFrame(dataset[\"Adj Close\"])\n",
    "features = [\"Open\", \"High\", \"Low\", \"Volume\"]"
   ]
  },
  {
   "cell_type": "code",
   "execution_count": 5,
   "metadata": {},
   "outputs": [
    {
     "data": {
      "text/html": [
       "<div>\n",
       "<style scoped>\n",
       "    .dataframe tbody tr th:only-of-type {\n",
       "        vertical-align: middle;\n",
       "    }\n",
       "\n",
       "    .dataframe tbody tr th {\n",
       "        vertical-align: top;\n",
       "    }\n",
       "\n",
       "    .dataframe thead th {\n",
       "        text-align: right;\n",
       "    }\n",
       "</style>\n",
       "<table border=\"1\" class=\"dataframe\">\n",
       "  <thead>\n",
       "    <tr style=\"text-align: right;\">\n",
       "      <th></th>\n",
       "      <th>Open</th>\n",
       "      <th>High</th>\n",
       "      <th>Low</th>\n",
       "      <th>Volume</th>\n",
       "    </tr>\n",
       "    <tr>\n",
       "      <th>Date</th>\n",
       "      <th></th>\n",
       "      <th></th>\n",
       "      <th></th>\n",
       "      <th></th>\n",
       "    </tr>\n",
       "  </thead>\n",
       "  <tbody>\n",
       "    <tr>\n",
       "      <th>2010-06-29</th>\n",
       "      <td>0.000465</td>\n",
       "      <td>0.001350</td>\n",
       "      <td>0.000422</td>\n",
       "      <td>0.306605</td>\n",
       "    </tr>\n",
       "    <tr>\n",
       "      <th>2010-06-30</th>\n",
       "      <td>0.001568</td>\n",
       "      <td>0.002224</td>\n",
       "      <td>0.001371</td>\n",
       "      <td>0.280640</td>\n",
       "    </tr>\n",
       "    <tr>\n",
       "      <th>2010-07-01</th>\n",
       "      <td>0.001439</td>\n",
       "      <td>0.001498</td>\n",
       "      <td>0.000871</td>\n",
       "      <td>0.133184</td>\n",
       "    </tr>\n",
       "    <tr>\n",
       "      <th>2010-07-02</th>\n",
       "      <td>0.001114</td>\n",
       "      <td>0.001043</td>\n",
       "      <td>0.000614</td>\n",
       "      <td>0.082560</td>\n",
       "    </tr>\n",
       "    <tr>\n",
       "      <th>2010-07-06</th>\n",
       "      <td>0.000627</td>\n",
       "      <td>0.000543</td>\n",
       "      <td>0.000140</td>\n",
       "      <td>0.110956</td>\n",
       "    </tr>\n",
       "  </tbody>\n",
       "</table>\n",
       "</div>"
      ],
      "text/plain": [
       "                Open      High       Low    Volume\n",
       "Date                                              \n",
       "2010-06-29  0.000465  0.001350  0.000422  0.306605\n",
       "2010-06-30  0.001568  0.002224  0.001371  0.280640\n",
       "2010-07-01  0.001439  0.001498  0.000871  0.133184\n",
       "2010-07-02  0.001114  0.001043  0.000614  0.082560\n",
       "2010-07-06  0.000627  0.000543  0.000140  0.110956"
      ]
     },
     "execution_count": 5,
     "metadata": {},
     "output_type": "execute_result"
    },
    {
     "data": {
      "application/javascript": "\n            setTimeout(function() {\n                var nbb_cell_id = 5;\n                var nbb_unformatted_code = \"from sklearn.preprocessing import MinMaxScaler\\n\\nscaler = MinMaxScaler()\\nfeature_transform = scaler.fit_transform(dataset[features])\\nX = pd.DataFrame(columns=features, data=feature_transform, index=dataset.index)\\nX.head()\";\n                var nbb_formatted_code = \"from sklearn.preprocessing import MinMaxScaler\\n\\nscaler = MinMaxScaler()\\nfeature_transform = scaler.fit_transform(dataset[features])\\nX = pd.DataFrame(columns=features, data=feature_transform, index=dataset.index)\\nX.head()\";\n                var nbb_cells = Jupyter.notebook.get_cells();\n                for (var i = 0; i < nbb_cells.length; ++i) {\n                    if (nbb_cells[i].input_prompt_number == nbb_cell_id) {\n                        if (nbb_cells[i].get_text() == nbb_unformatted_code) {\n                             nbb_cells[i].set_text(nbb_formatted_code);\n                        }\n                        break;\n                    }\n                }\n            }, 500);\n            ",
      "text/plain": [
       "<IPython.core.display.Javascript object>"
      ]
     },
     "metadata": {},
     "output_type": "display_data"
    }
   ],
   "source": [
    "from sklearn.preprocessing import MinMaxScaler\n",
    "\n",
    "scaler = MinMaxScaler()\n",
    "feature_transform = scaler.fit_transform(dataset[features])\n",
    "X = pd.DataFrame(columns=features, data=feature_transform, index=dataset.index)\n",
    "X.head()"
   ]
  },
  {
   "cell_type": "code",
   "execution_count": 6,
   "metadata": {},
   "outputs": [
    {
     "data": {
      "application/javascript": "\n            setTimeout(function() {\n                var nbb_cell_id = 6;\n                var nbb_unformatted_code = \"from sklearn.model_selection import train_test_split\\n\\nX_train, X_test, Y_train, Y_test = train_test_split(X, Y, test_size=0.1)\";\n                var nbb_formatted_code = \"from sklearn.model_selection import train_test_split\\n\\nX_train, X_test, Y_train, Y_test = train_test_split(X, Y, test_size=0.1)\";\n                var nbb_cells = Jupyter.notebook.get_cells();\n                for (var i = 0; i < nbb_cells.length; ++i) {\n                    if (nbb_cells[i].input_prompt_number == nbb_cell_id) {\n                        if (nbb_cells[i].get_text() == nbb_unformatted_code) {\n                             nbb_cells[i].set_text(nbb_formatted_code);\n                        }\n                        break;\n                    }\n                }\n            }, 500);\n            ",
      "text/plain": [
       "<IPython.core.display.Javascript object>"
      ]
     },
     "metadata": {},
     "output_type": "display_data"
    }
   ],
   "source": [
    "from sklearn.model_selection import train_test_split\n",
    "\n",
    "X_train, X_test, Y_train, Y_test = train_test_split(X, Y, test_size=0.1)"
   ]
  },
  {
   "cell_type": "code",
   "execution_count": 7,
   "metadata": {},
   "outputs": [
    {
     "data": {
      "application/javascript": "\n            setTimeout(function() {\n                var nbb_cell_id = 7;\n                var nbb_unformatted_code = \"X_train = X_train.sort_values(by=\\\"Date\\\")\\nY_train = Y_train.sort_values(by=\\\"Date\\\")\\nX_test = X_test.sort_values(by=\\\"Date\\\")\\nY_test = Y_test.sort_values(by=\\\"Date\\\")\";\n                var nbb_formatted_code = \"X_train = X_train.sort_values(by=\\\"Date\\\")\\nY_train = Y_train.sort_values(by=\\\"Date\\\")\\nX_test = X_test.sort_values(by=\\\"Date\\\")\\nY_test = Y_test.sort_values(by=\\\"Date\\\")\";\n                var nbb_cells = Jupyter.notebook.get_cells();\n                for (var i = 0; i < nbb_cells.length; ++i) {\n                    if (nbb_cells[i].input_prompt_number == nbb_cell_id) {\n                        if (nbb_cells[i].get_text() == nbb_unformatted_code) {\n                             nbb_cells[i].set_text(nbb_formatted_code);\n                        }\n                        break;\n                    }\n                }\n            }, 500);\n            ",
      "text/plain": [
       "<IPython.core.display.Javascript object>"
      ]
     },
     "metadata": {},
     "output_type": "display_data"
    }
   ],
   "source": [
    "X_train = X_train.sort_values(by=\"Date\")\n",
    "Y_train = Y_train.sort_values(by=\"Date\")\n",
    "X_test = X_test.sort_values(by=\"Date\")\n",
    "Y_test = Y_test.sort_values(by=\"Date\")"
   ]
  },
  {
   "cell_type": "code",
   "execution_count": 11,
   "metadata": {},
   "outputs": [
    {
     "data": {
      "application/javascript": "\n            setTimeout(function() {\n                var nbb_cell_id = 11;\n                var nbb_unformatted_code = \"trainX = np.array(X_train)\\ntestX = np.array(X_test)\";\n                var nbb_formatted_code = \"trainX = np.array(X_train)\\ntestX = np.array(X_test)\";\n                var nbb_cells = Jupyter.notebook.get_cells();\n                for (var i = 0; i < nbb_cells.length; ++i) {\n                    if (nbb_cells[i].input_prompt_number == nbb_cell_id) {\n                        if (nbb_cells[i].get_text() == nbb_unformatted_code) {\n                             nbb_cells[i].set_text(nbb_formatted_code);\n                        }\n                        break;\n                    }\n                }\n            }, 500);\n            ",
      "text/plain": [
       "<IPython.core.display.Javascript object>"
      ]
     },
     "metadata": {},
     "output_type": "display_data"
    }
   ],
   "source": [
    "trainX = np.array(X_train)\n",
    "testX = np.array(X_test)"
   ]
  },
  {
   "cell_type": "code",
   "execution_count": 12,
   "metadata": {},
   "outputs": [
    {
     "data": {
      "application/javascript": "\n            setTimeout(function() {\n                var nbb_cell_id = 12;\n                var nbb_unformatted_code = \"X_train = trainX.reshape(X_train.shape[0], 1, X_train.shape[1])\\nX_test = testX.reshape(X_test.shape[0], 1, X_test.shape[1])\";\n                var nbb_formatted_code = \"X_train = trainX.reshape(X_train.shape[0], 1, X_train.shape[1])\\nX_test = testX.reshape(X_test.shape[0], 1, X_test.shape[1])\";\n                var nbb_cells = Jupyter.notebook.get_cells();\n                for (var i = 0; i < nbb_cells.length; ++i) {\n                    if (nbb_cells[i].input_prompt_number == nbb_cell_id) {\n                        if (nbb_cells[i].get_text() == nbb_unformatted_code) {\n                             nbb_cells[i].set_text(nbb_formatted_code);\n                        }\n                        break;\n                    }\n                }\n            }, 500);\n            ",
      "text/plain": [
       "<IPython.core.display.Javascript object>"
      ]
     },
     "metadata": {},
     "output_type": "display_data"
    }
   ],
   "source": [
    "X_train = trainX.reshape(X_train.shape[0], 1, X_train.shape[1])\n",
    "X_test = testX.reshape(X_test.shape[0], 1, X_test.shape[1])"
   ]
  },
  {
   "cell_type": "code",
   "execution_count": 13,
   "metadata": {},
   "outputs": [
    {
     "name": "stdout",
     "output_type": "stream",
     "text": [
      "You must install pydot (`pip install pydot`) and install graphviz (see instructions at https://graphviz.gitlab.io/download/) for plot_model/model_to_dot to work.\n"
     ]
    },
    {
     "data": {
      "application/javascript": "\n            setTimeout(function() {\n                var nbb_cell_id = 13;\n                var nbb_unformatted_code = \"from keras.layers import LSTM, Dense, Dropout\\nfrom keras.models import Sequential\\nfrom keras.utils.vis_utils import plot_model\\n\\nlstm = Sequential()\\nlstm.add(\\n    LSTM(\\n        32, input_shape=(1, trainX.shape[1]), activation=\\\"relu\\\", return_sequences=False\\n    )\\n)\\nlstm.add(Dense(1))\\nlstm.compile(loss=\\\"mean_squared_error\\\", optimizer=\\\"adam\\\")\\nplot_model(lstm, show_shapes=True, show_layer_names=True)\";\n                var nbb_formatted_code = \"from keras.layers import LSTM, Dense, Dropout\\nfrom keras.models import Sequential\\nfrom keras.utils.vis_utils import plot_model\\n\\nlstm = Sequential()\\nlstm.add(\\n    LSTM(\\n        32, input_shape=(1, trainX.shape[1]), activation=\\\"relu\\\", return_sequences=False\\n    )\\n)\\nlstm.add(Dense(1))\\nlstm.compile(loss=\\\"mean_squared_error\\\", optimizer=\\\"adam\\\")\\nplot_model(lstm, show_shapes=True, show_layer_names=True)\";\n                var nbb_cells = Jupyter.notebook.get_cells();\n                for (var i = 0; i < nbb_cells.length; ++i) {\n                    if (nbb_cells[i].input_prompt_number == nbb_cell_id) {\n                        if (nbb_cells[i].get_text() == nbb_unformatted_code) {\n                             nbb_cells[i].set_text(nbb_formatted_code);\n                        }\n                        break;\n                    }\n                }\n            }, 500);\n            ",
      "text/plain": [
       "<IPython.core.display.Javascript object>"
      ]
     },
     "metadata": {},
     "output_type": "display_data"
    }
   ],
   "source": [
    "from keras.layers import LSTM, Dense, Dropout\n",
    "from keras.models import Sequential\n",
    "from keras.utils.vis_utils import plot_model\n",
    "\n",
    "lstm = Sequential()\n",
    "lstm.add(\n",
    "    LSTM(\n",
    "        32, input_shape=(1, trainX.shape[1]), activation=\"relu\", return_sequences=False\n",
    "    )\n",
    ")\n",
    "lstm.add(Dense(1))\n",
    "lstm.compile(loss=\"mean_squared_error\", optimizer=\"adam\")\n",
    "plot_model(lstm, show_shapes=True, show_layer_names=True)"
   ]
  },
  {
   "cell_type": "code",
   "execution_count": 20,
   "metadata": {},
   "outputs": [
    {
     "name": "stdout",
     "output_type": "stream",
     "text": [
      "Epoch 1/200\n",
      "329/329 [==============================] - 2s 3ms/step - loss: 20.7901 - val_loss: 22.0966\n",
      "Epoch 2/200\n",
      "329/329 [==============================] - 1s 2ms/step - loss: 19.9474 - val_loss: 21.5887\n",
      "Epoch 3/200\n",
      "329/329 [==============================] - 1s 2ms/step - loss: 19.2870 - val_loss: 21.9367\n",
      "Epoch 4/200\n",
      "329/329 [==============================] - 1s 2ms/step - loss: 18.9677 - val_loss: 20.3099\n",
      "Epoch 5/200\n",
      "329/329 [==============================] - 1s 2ms/step - loss: 18.6366 - val_loss: 20.8894\n",
      "Epoch 6/200\n",
      "329/329 [==============================] - 1s 2ms/step - loss: 18.5666 - val_loss: 18.4465\n",
      "Epoch 7/200\n",
      "329/329 [==============================] - 1s 2ms/step - loss: 18.2734 - val_loss: 17.9656\n",
      "Epoch 8/200\n",
      "329/329 [==============================] - 1s 2ms/step - loss: 18.3159 - val_loss: 19.0922\n",
      "Epoch 9/200\n",
      "329/329 [==============================] - 1s 2ms/step - loss: 18.3035 - val_loss: 22.6684\n",
      "Epoch 10/200\n",
      "329/329 [==============================] - 1s 2ms/step - loss: 17.8334 - val_loss: 21.3242\n",
      "Epoch 11/200\n",
      "329/329 [==============================] - 1s 2ms/step - loss: 17.8311 - val_loss: 17.1491\n",
      "Epoch 12/200\n",
      "329/329 [==============================] - 1s 2ms/step - loss: 17.9544 - val_loss: 17.2327\n",
      "Epoch 13/200\n",
      "329/329 [==============================] - 1s 2ms/step - loss: 17.8737 - val_loss: 17.3212\n",
      "Epoch 14/200\n",
      "329/329 [==============================] - 1s 2ms/step - loss: 18.0411 - val_loss: 18.1152\n",
      "Epoch 15/200\n",
      "329/329 [==============================] - 1s 2ms/step - loss: 17.7711 - val_loss: 23.6929\n",
      "Epoch 16/200\n",
      "329/329 [==============================] - 1s 2ms/step - loss: 18.0038 - val_loss: 18.0359\n",
      "Epoch 17/200\n",
      "329/329 [==============================] - 1s 2ms/step - loss: 18.2063 - val_loss: 16.5493\n",
      "Epoch 18/200\n",
      "329/329 [==============================] - 1s 2ms/step - loss: 17.3710 - val_loss: 20.0846\n",
      "Epoch 19/200\n",
      "329/329 [==============================] - 1s 2ms/step - loss: 18.0054 - val_loss: 21.1937\n",
      "Epoch 20/200\n",
      "329/329 [==============================] - 1s 2ms/step - loss: 18.3847 - val_loss: 16.8618\n",
      "Epoch 21/200\n",
      "329/329 [==============================] - 1s 2ms/step - loss: 17.7417 - val_loss: 16.0255\n",
      "Epoch 22/200\n",
      "329/329 [==============================] - 1s 2ms/step - loss: 17.9594 - val_loss: 16.5489\n",
      "Epoch 23/200\n",
      "329/329 [==============================] - 1s 2ms/step - loss: 17.3658 - val_loss: 18.4617\n",
      "Epoch 24/200\n",
      "329/329 [==============================] - 1s 2ms/step - loss: 17.5306 - val_loss: 17.6801\n",
      "Epoch 25/200\n",
      "329/329 [==============================] - 1s 2ms/step - loss: 17.7778 - val_loss: 17.4952\n",
      "Epoch 26/200\n",
      "329/329 [==============================] - 1s 2ms/step - loss: 18.0264 - val_loss: 16.0323\n",
      "Epoch 27/200\n",
      "329/329 [==============================] - 1s 2ms/step - loss: 17.5910 - val_loss: 17.7154\n",
      "Epoch 28/200\n",
      "329/329 [==============================] - 1s 2ms/step - loss: 17.8495 - val_loss: 16.7822\n",
      "Epoch 29/200\n",
      "329/329 [==============================] - 1s 2ms/step - loss: 17.5987 - val_loss: 16.2414\n",
      "Epoch 30/200\n",
      "329/329 [==============================] - 1s 2ms/step - loss: 17.8202 - val_loss: 17.7556\n",
      "Epoch 31/200\n",
      "329/329 [==============================] - 1s 2ms/step - loss: 17.8690 - val_loss: 17.6712\n",
      "Epoch 32/200\n",
      "329/329 [==============================] - 1s 2ms/step - loss: 17.2034 - val_loss: 16.1402\n",
      "Epoch 33/200\n",
      "329/329 [==============================] - 1s 2ms/step - loss: 17.5614 - val_loss: 16.3536\n",
      "Epoch 34/200\n",
      "329/329 [==============================] - 1s 2ms/step - loss: 17.4064 - val_loss: 16.1505\n",
      "Epoch 35/200\n",
      "329/329 [==============================] - 1s 2ms/step - loss: 17.6873 - val_loss: 20.6154\n",
      "Epoch 36/200\n",
      "329/329 [==============================] - 1s 2ms/step - loss: 17.7317 - val_loss: 16.6090\n",
      "Epoch 37/200\n",
      "329/329 [==============================] - 1s 2ms/step - loss: 17.6433 - val_loss: 19.8164\n",
      "Epoch 38/200\n",
      "329/329 [==============================] - 1s 2ms/step - loss: 17.4761 - val_loss: 16.3444\n",
      "Epoch 39/200\n",
      "329/329 [==============================] - 1s 2ms/step - loss: 17.8353 - val_loss: 16.9232\n",
      "Epoch 40/200\n",
      "329/329 [==============================] - 1s 2ms/step - loss: 17.4323 - val_loss: 16.5653\n",
      "Epoch 41/200\n",
      "329/329 [==============================] - 1s 2ms/step - loss: 17.4661 - val_loss: 17.5056\n",
      "Epoch 42/200\n",
      "329/329 [==============================] - 1s 2ms/step - loss: 17.6610 - val_loss: 17.6983\n",
      "Epoch 43/200\n",
      "329/329 [==============================] - 1s 2ms/step - loss: 17.3863 - val_loss: 16.1269\n",
      "Epoch 44/200\n",
      "329/329 [==============================] - 1s 2ms/step - loss: 17.6217 - val_loss: 17.3309\n",
      "Epoch 45/200\n",
      "329/329 [==============================] - 1s 2ms/step - loss: 17.4615 - val_loss: 16.6235\n",
      "Epoch 46/200\n",
      "329/329 [==============================] - 1s 2ms/step - loss: 17.4399 - val_loss: 17.1284\n",
      "Epoch 47/200\n",
      "329/329 [==============================] - 1s 2ms/step - loss: 17.2175 - val_loss: 20.4105\n",
      "Epoch 48/200\n",
      "329/329 [==============================] - 1s 2ms/step - loss: 17.5963 - val_loss: 17.7958\n",
      "Epoch 49/200\n",
      "329/329 [==============================] - 1s 2ms/step - loss: 17.2552 - val_loss: 19.3021\n",
      "Epoch 50/200\n",
      "329/329 [==============================] - 1s 2ms/step - loss: 17.3358 - val_loss: 18.1806\n",
      "Epoch 51/200\n",
      "329/329 [==============================] - 1s 2ms/step - loss: 17.2537 - val_loss: 19.2563\n",
      "Epoch 52/200\n",
      "329/329 [==============================] - 1s 2ms/step - loss: 17.5268 - val_loss: 17.1838\n",
      "Epoch 53/200\n",
      "329/329 [==============================] - 1s 2ms/step - loss: 17.0953 - val_loss: 16.6070\n",
      "Epoch 54/200\n",
      "329/329 [==============================] - 1s 2ms/step - loss: 17.5766 - val_loss: 18.6812\n",
      "Epoch 55/200\n",
      "329/329 [==============================] - 1s 2ms/step - loss: 17.5280 - val_loss: 16.1845\n",
      "Epoch 56/200\n",
      "329/329 [==============================] - 1s 2ms/step - loss: 17.3995 - val_loss: 17.7701\n",
      "Epoch 57/200\n",
      "329/329 [==============================] - 1s 2ms/step - loss: 17.4237 - val_loss: 20.9150\n",
      "Epoch 58/200\n",
      "329/329 [==============================] - 1s 2ms/step - loss: 17.2556 - val_loss: 17.7766\n",
      "Epoch 59/200\n",
      "329/329 [==============================] - 1s 2ms/step - loss: 17.4803 - val_loss: 17.2670\n",
      "Epoch 60/200\n",
      "329/329 [==============================] - 1s 2ms/step - loss: 17.5738 - val_loss: 18.3654\n",
      "Epoch 61/200\n",
      "329/329 [==============================] - 1s 2ms/step - loss: 17.4417 - val_loss: 18.1990\n",
      "Epoch 62/200\n",
      "329/329 [==============================] - 1s 2ms/step - loss: 16.8391 - val_loss: 16.3557\n",
      "Epoch 63/200\n",
      "329/329 [==============================] - 1s 3ms/step - loss: 17.3431 - val_loss: 21.2307\n",
      "Epoch 64/200\n",
      "329/329 [==============================] - 1s 3ms/step - loss: 17.2558 - val_loss: 17.9688\n",
      "Epoch 65/200\n",
      "329/329 [==============================] - 1s 2ms/step - loss: 17.4580 - val_loss: 18.0170\n",
      "Epoch 66/200\n",
      "329/329 [==============================] - 1s 2ms/step - loss: 17.1830 - val_loss: 19.2280\n",
      "Epoch 67/200\n",
      "329/329 [==============================] - 1s 2ms/step - loss: 16.8718 - val_loss: 16.6137\n",
      "Epoch 68/200\n",
      "329/329 [==============================] - 1s 2ms/step - loss: 17.4003 - val_loss: 16.3896\n",
      "Epoch 69/200\n",
      "329/329 [==============================] - 1s 2ms/step - loss: 16.4851 - val_loss: 17.3540\n",
      "Epoch 70/200\n",
      "329/329 [==============================] - 1s 2ms/step - loss: 18.0684 - val_loss: 19.5741\n",
      "Epoch 71/200\n",
      "329/329 [==============================] - 1s 2ms/step - loss: 17.2444 - val_loss: 16.8062\n",
      "Epoch 72/200\n",
      "329/329 [==============================] - 1s 2ms/step - loss: 16.9652 - val_loss: 16.0239\n",
      "Epoch 73/200\n",
      "329/329 [==============================] - 1s 2ms/step - loss: 17.3139 - val_loss: 16.5646\n",
      "Epoch 74/200\n",
      "329/329 [==============================] - 1s 2ms/step - loss: 17.0744 - val_loss: 19.4153\n",
      "Epoch 75/200\n",
      "329/329 [==============================] - 1s 2ms/step - loss: 17.3573 - val_loss: 18.5639\n",
      "Epoch 76/200\n",
      "329/329 [==============================] - 1s 2ms/step - loss: 17.2068 - val_loss: 17.3132\n",
      "Epoch 77/200\n",
      "329/329 [==============================] - 1s 2ms/step - loss: 16.9638 - val_loss: 22.0294\n",
      "Epoch 78/200\n",
      "329/329 [==============================] - 1s 2ms/step - loss: 16.9319 - val_loss: 15.9406\n",
      "Epoch 79/200\n",
      "329/329 [==============================] - 1s 2ms/step - loss: 17.4057 - val_loss: 16.7936\n",
      "Epoch 80/200\n",
      "329/329 [==============================] - 1s 2ms/step - loss: 17.0910 - val_loss: 16.8776\n",
      "Epoch 81/200\n",
      "329/329 [==============================] - 1s 2ms/step - loss: 17.4241 - val_loss: 20.5289\n",
      "Epoch 82/200\n",
      "329/329 [==============================] - 1s 2ms/step - loss: 17.3954 - val_loss: 16.0480\n",
      "Epoch 83/200\n",
      "329/329 [==============================] - 1s 3ms/step - loss: 16.9522 - val_loss: 16.4008\n",
      "Epoch 84/200\n",
      "329/329 [==============================] - 1s 2ms/step - loss: 17.0987 - val_loss: 16.6470\n",
      "Epoch 85/200\n",
      "329/329 [==============================] - 1s 2ms/step - loss: 16.9517 - val_loss: 16.4283\n",
      "Epoch 86/200\n",
      "329/329 [==============================] - 1s 2ms/step - loss: 17.1998 - val_loss: 16.1596\n",
      "Epoch 87/200\n",
      "329/329 [==============================] - 1s 2ms/step - loss: 16.6157 - val_loss: 20.1638\n",
      "Epoch 88/200\n",
      "329/329 [==============================] - 1s 2ms/step - loss: 17.5733 - val_loss: 19.1100\n",
      "Epoch 89/200\n",
      "329/329 [==============================] - 1s 2ms/step - loss: 16.9516 - val_loss: 17.2971\n",
      "Epoch 90/200\n",
      "329/329 [==============================] - 1s 2ms/step - loss: 16.8098 - val_loss: 17.2242\n",
      "Epoch 91/200\n",
      "329/329 [==============================] - 1s 2ms/step - loss: 16.9754 - val_loss: 16.0345\n",
      "Epoch 92/200\n",
      "329/329 [==============================] - 1s 2ms/step - loss: 17.2386 - val_loss: 17.3382\n",
      "Epoch 93/200\n",
      "329/329 [==============================] - 1s 2ms/step - loss: 16.8541 - val_loss: 16.2575\n",
      "Epoch 94/200\n",
      "329/329 [==============================] - 1s 2ms/step - loss: 17.1424 - val_loss: 19.1986\n",
      "Epoch 95/200\n",
      "329/329 [==============================] - 1s 2ms/step - loss: 16.9003 - val_loss: 18.4699\n",
      "Epoch 96/200\n",
      "329/329 [==============================] - 1s 2ms/step - loss: 16.8382 - val_loss: 16.2556\n",
      "Epoch 97/200\n",
      "329/329 [==============================] - 1s 2ms/step - loss: 16.7843 - val_loss: 17.7360\n",
      "Epoch 98/200\n",
      "329/329 [==============================] - 1s 2ms/step - loss: 16.3461 - val_loss: 24.9478\n",
      "Epoch 99/200\n",
      "329/329 [==============================] - 1s 2ms/step - loss: 17.1828 - val_loss: 22.3236\n",
      "Epoch 100/200\n",
      "329/329 [==============================] - 1s 2ms/step - loss: 17.1638 - val_loss: 17.8802\n",
      "Epoch 101/200\n",
      "329/329 [==============================] - 1s 2ms/step - loss: 16.6183 - val_loss: 18.8588\n",
      "Epoch 102/200\n",
      "329/329 [==============================] - 1s 2ms/step - loss: 16.8119 - val_loss: 17.0494\n",
      "Epoch 103/200\n",
      "329/329 [==============================] - 1s 2ms/step - loss: 16.9233 - val_loss: 18.2020\n",
      "Epoch 104/200\n",
      "329/329 [==============================] - 1s 2ms/step - loss: 16.7865 - val_loss: 16.5898\n",
      "Epoch 105/200\n",
      "329/329 [==============================] - 1s 2ms/step - loss: 16.9783 - val_loss: 21.7313\n",
      "Epoch 106/200\n",
      "329/329 [==============================] - 1s 2ms/step - loss: 16.8311 - val_loss: 16.8328\n",
      "Epoch 107/200\n",
      "329/329 [==============================] - 1s 2ms/step - loss: 16.9697 - val_loss: 21.3067\n",
      "Epoch 108/200\n",
      "329/329 [==============================] - 1s 2ms/step - loss: 16.7934 - val_loss: 17.9863\n",
      "Epoch 109/200\n",
      "329/329 [==============================] - 1s 2ms/step - loss: 17.2266 - val_loss: 18.8167\n",
      "Epoch 110/200\n",
      "329/329 [==============================] - 1s 2ms/step - loss: 16.7445 - val_loss: 16.7515\n",
      "Epoch 111/200\n",
      "329/329 [==============================] - 1s 2ms/step - loss: 16.8282 - val_loss: 19.7795\n",
      "Epoch 112/200\n",
      "329/329 [==============================] - 1s 2ms/step - loss: 16.8841 - val_loss: 16.7365\n",
      "Epoch 113/200\n",
      "329/329 [==============================] - 1s 2ms/step - loss: 16.8895 - val_loss: 16.7621\n",
      "Epoch 114/200\n",
      "329/329 [==============================] - 1s 2ms/step - loss: 16.8119 - val_loss: 17.2975\n",
      "Epoch 115/200\n",
      "329/329 [==============================] - 1s 2ms/step - loss: 16.7718 - val_loss: 19.1013\n",
      "Epoch 116/200\n",
      "329/329 [==============================] - 1s 2ms/step - loss: 16.2150 - val_loss: 27.5329\n",
      "Epoch 117/200\n",
      "329/329 [==============================] - 1s 2ms/step - loss: 17.5468 - val_loss: 17.8321\n",
      "Epoch 118/200\n",
      "329/329 [==============================] - 1s 2ms/step - loss: 16.5230 - val_loss: 17.6817\n",
      "Epoch 119/200\n",
      "329/329 [==============================] - 1s 2ms/step - loss: 17.0950 - val_loss: 17.5866\n",
      "Epoch 120/200\n",
      "329/329 [==============================] - 1s 2ms/step - loss: 16.7937 - val_loss: 17.1993\n",
      "Epoch 121/200\n",
      "329/329 [==============================] - 1s 2ms/step - loss: 16.9978 - val_loss: 18.0254\n",
      "Epoch 122/200\n",
      "329/329 [==============================] - 1s 2ms/step - loss: 16.5847 - val_loss: 16.0721\n",
      "Epoch 123/200\n",
      "329/329 [==============================] - 1s 2ms/step - loss: 16.5016 - val_loss: 17.1661\n",
      "Epoch 124/200\n",
      "329/329 [==============================] - 1s 2ms/step - loss: 16.5751 - val_loss: 18.1840\n",
      "Epoch 125/200\n",
      "329/329 [==============================] - 1s 2ms/step - loss: 16.7334 - val_loss: 19.3602\n",
      "Epoch 126/200\n",
      "329/329 [==============================] - 1s 2ms/step - loss: 16.7272 - val_loss: 18.2249\n",
      "Epoch 127/200\n",
      "329/329 [==============================] - 1s 2ms/step - loss: 16.5523 - val_loss: 16.1493\n",
      "Epoch 128/200\n",
      "329/329 [==============================] - 1s 2ms/step - loss: 16.7858 - val_loss: 17.6978\n",
      "Epoch 129/200\n",
      "329/329 [==============================] - 1s 2ms/step - loss: 16.8022 - val_loss: 17.3999\n",
      "Epoch 130/200\n",
      "329/329 [==============================] - 1s 2ms/step - loss: 16.8445 - val_loss: 16.2549\n",
      "Epoch 131/200\n",
      "329/329 [==============================] - 1s 2ms/step - loss: 16.6253 - val_loss: 21.3603\n",
      "Epoch 132/200\n",
      "329/329 [==============================] - 1s 2ms/step - loss: 16.9538 - val_loss: 17.6808\n",
      "Epoch 133/200\n",
      "329/329 [==============================] - 1s 2ms/step - loss: 16.7238 - val_loss: 19.6392\n",
      "Epoch 134/200\n",
      "329/329 [==============================] - 1s 2ms/step - loss: 16.3813 - val_loss: 19.1425\n",
      "Epoch 135/200\n",
      "329/329 [==============================] - 1s 2ms/step - loss: 16.4552 - val_loss: 17.5003\n",
      "Epoch 136/200\n",
      "329/329 [==============================] - 1s 2ms/step - loss: 16.7444 - val_loss: 16.6193\n",
      "Epoch 137/200\n",
      "329/329 [==============================] - 1s 2ms/step - loss: 16.3971 - val_loss: 15.9555\n",
      "Epoch 138/200\n",
      "329/329 [==============================] - 1s 2ms/step - loss: 16.7475 - val_loss: 16.3133\n",
      "Epoch 139/200\n",
      "329/329 [==============================] - 1s 2ms/step - loss: 16.4062 - val_loss: 17.7371\n",
      "Epoch 140/200\n",
      "329/329 [==============================] - 1s 2ms/step - loss: 16.8240 - val_loss: 18.8651\n",
      "Epoch 141/200\n",
      "329/329 [==============================] - 1s 2ms/step - loss: 16.4302 - val_loss: 15.9407\n",
      "Epoch 142/200\n",
      "329/329 [==============================] - 1s 2ms/step - loss: 16.3309 - val_loss: 16.8353\n",
      "Epoch 143/200\n",
      "329/329 [==============================] - 1s 2ms/step - loss: 16.4939 - val_loss: 17.2685\n",
      "Epoch 144/200\n",
      "329/329 [==============================] - 1s 2ms/step - loss: 16.2815 - val_loss: 16.4729\n",
      "Epoch 145/200\n",
      "329/329 [==============================] - 1s 2ms/step - loss: 16.5136 - val_loss: 16.2924\n",
      "Epoch 146/200\n",
      "329/329 [==============================] - 1s 2ms/step - loss: 16.4101 - val_loss: 16.9232\n",
      "Epoch 147/200\n",
      "329/329 [==============================] - 1s 2ms/step - loss: 16.3381 - val_loss: 16.1741\n",
      "Epoch 148/200\n",
      "329/329 [==============================] - 1s 2ms/step - loss: 16.5955 - val_loss: 17.5524\n",
      "Epoch 149/200\n",
      "329/329 [==============================] - 1s 2ms/step - loss: 16.3228 - val_loss: 16.9575\n",
      "Epoch 150/200\n",
      "329/329 [==============================] - 1s 2ms/step - loss: 16.5263 - val_loss: 17.6853\n",
      "Epoch 151/200\n",
      "329/329 [==============================] - 1s 2ms/step - loss: 16.4070 - val_loss: 21.9308\n",
      "Epoch 152/200\n",
      "329/329 [==============================] - 1s 2ms/step - loss: 16.5537 - val_loss: 15.9748\n",
      "Epoch 153/200\n",
      "329/329 [==============================] - 1s 2ms/step - loss: 15.9836 - val_loss: 16.2688\n",
      "Epoch 154/200\n",
      "329/329 [==============================] - 1s 2ms/step - loss: 16.9298 - val_loss: 19.0108\n",
      "Epoch 155/200\n",
      "329/329 [==============================] - 1s 2ms/step - loss: 16.5174 - val_loss: 16.2206\n",
      "Epoch 156/200\n",
      "329/329 [==============================] - 1s 2ms/step - loss: 16.5745 - val_loss: 20.3137\n",
      "Epoch 157/200\n",
      "329/329 [==============================] - 1s 2ms/step - loss: 16.3903 - val_loss: 17.6588\n",
      "Epoch 158/200\n",
      "329/329 [==============================] - 1s 2ms/step - loss: 16.5229 - val_loss: 18.5066\n",
      "Epoch 159/200\n",
      "329/329 [==============================] - 1s 2ms/step - loss: 16.1886 - val_loss: 20.5508\n",
      "Epoch 160/200\n",
      "329/329 [==============================] - 1s 2ms/step - loss: 16.3781 - val_loss: 17.1043\n",
      "Epoch 161/200\n",
      "329/329 [==============================] - 1s 2ms/step - loss: 16.4023 - val_loss: 16.2827\n",
      "Epoch 162/200\n",
      "329/329 [==============================] - 1s 2ms/step - loss: 16.4088 - val_loss: 18.2521\n",
      "Epoch 163/200\n",
      "329/329 [==============================] - 1s 2ms/step - loss: 16.0629 - val_loss: 16.1368\n",
      "Epoch 164/200\n",
      "329/329 [==============================] - 1s 2ms/step - loss: 16.3075 - val_loss: 16.1827\n",
      "Epoch 165/200\n",
      "329/329 [==============================] - 1s 3ms/step - loss: 16.7608 - val_loss: 17.7573\n",
      "Epoch 166/200\n",
      "329/329 [==============================] - 1s 3ms/step - loss: 16.3458 - val_loss: 17.9385\n",
      "Epoch 167/200\n",
      "329/329 [==============================] - 1s 2ms/step - loss: 15.6712 - val_loss: 16.2119\n",
      "Epoch 168/200\n",
      "329/329 [==============================] - 1s 2ms/step - loss: 16.1263 - val_loss: 17.6031\n",
      "Epoch 169/200\n",
      "329/329 [==============================] - 1s 2ms/step - loss: 16.3320 - val_loss: 16.8318\n",
      "Epoch 170/200\n",
      "329/329 [==============================] - 1s 2ms/step - loss: 15.8290 - val_loss: 22.8680\n",
      "Epoch 171/200\n",
      "329/329 [==============================] - 1s 2ms/step - loss: 16.3827 - val_loss: 17.3492\n",
      "Epoch 172/200\n",
      "329/329 [==============================] - 1s 2ms/step - loss: 16.2794 - val_loss: 19.7887\n",
      "Epoch 173/200\n",
      "329/329 [==============================] - 1s 2ms/step - loss: 16.3747 - val_loss: 19.4129\n",
      "Epoch 174/200\n",
      "329/329 [==============================] - 1s 2ms/step - loss: 16.3778 - val_loss: 16.2753\n",
      "Epoch 175/200\n",
      "329/329 [==============================] - 1s 2ms/step - loss: 16.2399 - val_loss: 16.3985\n",
      "Epoch 176/200\n",
      "329/329 [==============================] - 1s 2ms/step - loss: 16.3052 - val_loss: 17.6973\n",
      "Epoch 177/200\n",
      "329/329 [==============================] - 1s 2ms/step - loss: 15.9094 - val_loss: 25.4671\n",
      "Epoch 178/200\n",
      "329/329 [==============================] - 1s 2ms/step - loss: 16.5727 - val_loss: 18.9533\n",
      "Epoch 179/200\n",
      "329/329 [==============================] - 1s 2ms/step - loss: 16.0320 - val_loss: 16.7451\n",
      "Epoch 180/200\n",
      "329/329 [==============================] - 1s 2ms/step - loss: 16.3031 - val_loss: 17.7353\n",
      "Epoch 181/200\n",
      "329/329 [==============================] - 1s 2ms/step - loss: 16.1167 - val_loss: 16.4539\n",
      "Epoch 182/200\n",
      "329/329 [==============================] - 1s 2ms/step - loss: 16.2729 - val_loss: 18.7381\n",
      "Epoch 183/200\n",
      "329/329 [==============================] - 1s 2ms/step - loss: 16.2638 - val_loss: 18.6141\n",
      "Epoch 184/200\n",
      "329/329 [==============================] - 1s 2ms/step - loss: 16.3479 - val_loss: 19.7230\n",
      "Epoch 185/200\n",
      "329/329 [==============================] - 1s 2ms/step - loss: 16.1940 - val_loss: 18.3754\n",
      "Epoch 186/200\n",
      "329/329 [==============================] - 1s 2ms/step - loss: 16.0945 - val_loss: 18.0871\n",
      "Epoch 187/200\n",
      "329/329 [==============================] - 1s 2ms/step - loss: 15.9014 - val_loss: 17.0197\n",
      "Epoch 188/200\n",
      "329/329 [==============================] - 1s 2ms/step - loss: 15.9185 - val_loss: 17.2218\n",
      "Epoch 189/200\n",
      "329/329 [==============================] - 1s 2ms/step - loss: 16.4210 - val_loss: 16.7701\n",
      "Epoch 190/200\n",
      "329/329 [==============================] - 1s 2ms/step - loss: 16.5234 - val_loss: 17.7360\n",
      "Epoch 191/200\n",
      "329/329 [==============================] - 1s 2ms/step - loss: 16.3544 - val_loss: 19.5706\n",
      "Epoch 192/200\n",
      "329/329 [==============================] - 1s 2ms/step - loss: 16.2250 - val_loss: 17.1952\n",
      "Epoch 193/200\n",
      "329/329 [==============================] - 1s 2ms/step - loss: 15.9334 - val_loss: 19.7819\n",
      "Epoch 194/200\n",
      "329/329 [==============================] - 1s 2ms/step - loss: 16.3117 - val_loss: 20.2753\n",
      "Epoch 195/200\n",
      "329/329 [==============================] - 1s 2ms/step - loss: 16.0050 - val_loss: 16.9007\n",
      "Epoch 196/200\n",
      "329/329 [==============================] - 1s 2ms/step - loss: 15.8938 - val_loss: 16.2604\n",
      "Epoch 197/200\n",
      "329/329 [==============================] - 1s 2ms/step - loss: 16.0553 - val_loss: 16.6362\n",
      "Epoch 198/200\n",
      "329/329 [==============================] - 1s 2ms/step - loss: 16.2951 - val_loss: 18.1319\n",
      "Epoch 199/200\n",
      "329/329 [==============================] - 1s 2ms/step - loss: 16.0125 - val_loss: 17.9712\n",
      "Epoch 200/200\n",
      "329/329 [==============================] - 1s 2ms/step - loss: 16.1932 - val_loss: 17.3062\n"
     ]
    },
    {
     "data": {
      "application/javascript": "\n            setTimeout(function() {\n                var nbb_cell_id = 20;\n                var nbb_unformatted_code = \"history = lstm.fit(X_train, Y_train, epochs=200, validation_data=(X_test, Y_test), batch_size=8, verbose=1)\";\n                var nbb_formatted_code = \"history = lstm.fit(\\n    X_train,\\n    Y_train,\\n    epochs=200,\\n    validation_data=(X_test, Y_test),\\n    batch_size=8,\\n    verbose=1,\\n)\";\n                var nbb_cells = Jupyter.notebook.get_cells();\n                for (var i = 0; i < nbb_cells.length; ++i) {\n                    if (nbb_cells[i].input_prompt_number == nbb_cell_id) {\n                        if (nbb_cells[i].get_text() == nbb_unformatted_code) {\n                             nbb_cells[i].set_text(nbb_formatted_code);\n                        }\n                        break;\n                    }\n                }\n            }, 500);\n            ",
      "text/plain": [
       "<IPython.core.display.Javascript object>"
      ]
     },
     "metadata": {},
     "output_type": "display_data"
    }
   ],
   "source": [
    "history = lstm.fit(\n",
    "    X_train,\n",
    "    Y_train,\n",
    "    epochs=200,\n",
    "    validation_data=(X_test, Y_test),\n",
    "    batch_size=8,\n",
    "    verbose=1,\n",
    ")"
   ]
  },
  {
   "cell_type": "code",
   "execution_count": 21,
   "metadata": {},
   "outputs": [
    {
     "data": {
      "application/javascript": "\n            setTimeout(function() {\n                var nbb_cell_id = 21;\n                var nbb_unformatted_code = \"Y_pred = lstm.predict(X_test)\";\n                var nbb_formatted_code = \"Y_pred = lstm.predict(X_test)\";\n                var nbb_cells = Jupyter.notebook.get_cells();\n                for (var i = 0; i < nbb_cells.length; ++i) {\n                    if (nbb_cells[i].input_prompt_number == nbb_cell_id) {\n                        if (nbb_cells[i].get_text() == nbb_unformatted_code) {\n                             nbb_cells[i].set_text(nbb_formatted_code);\n                        }\n                        break;\n                    }\n                }\n            }, 500);\n            ",
      "text/plain": [
       "<IPython.core.display.Javascript object>"
      ]
     },
     "metadata": {},
     "output_type": "display_data"
    }
   ],
   "source": [
    "Y_pred = lstm.predict(X_test)"
   ]
  },
  {
   "cell_type": "code",
   "execution_count": 22,
   "metadata": {},
   "outputs": [
    {
     "data": {
      "text/plain": [
       "<matplotlib.collections.PathCollection at 0x122167aaf80>"
      ]
     },
     "execution_count": 22,
     "metadata": {},
     "output_type": "execute_result"
    },
    {
     "data": {
      "image/png": "[encoded data removed]",
      "image/svg+xml": "<?xml version=\"1.0\" encoding=\"utf-8\" standalone=\"no\"?>\n<!DOCTYPE svg PUBLIC \"-//W3C//DTD SVG 1.1//EN\"\n  \"http://www.w3.org/Graphics/SVG/1.1/DTD/svg11.dtd\">\n<svg xmlns:xlink=\"http://www.w3.org/1999/xlink\" width=\"381.65pt\" height=\"248.518125pt\" viewBox=\"0 0 381.65 248.518125\" xmlns=\"http://www.w3.org/2000/svg\" version=\"1.1\">\n <metadata>\n  <rdf:RDF xmlns:dc=\"http://purl.org/dc/elements/1.1/\" xmlns:cc=\"http://creativecommons.org/ns#\" xmlns:rdf=\"http://www.w3.org/1999/02/22-rdf-syntax-ns#\">\n   <cc:Work>\n    <dc:type rdf:resource=\"http://purl.org/dc/dcmitype/StillImage\"/>\n    <dc:date>2022-02-03T13:28:49.740595</dc:date>\n    <dc:format>image/svg+xml</dc:format>\n    <dc:creator>\n     <cc:Agent>\n      <dc:title>Matplotlib v3.5.1, https://matplotlib.org/</dc:title>\n     </cc:Agent>\n    </dc:creator>\n   </cc:Work>\n  </rdf:RDF>\n </metadata>\n <defs>\n  <style type=\"text/css\">*{stroke-linejoin: round; stroke-linecap: butt}</style>\n </defs>\n <g id=\"figure_1\">\n  <g id=\"patch_1\">\n   <path d=\"M -0 248.518125 \nL 381.65 248.518125 \nL 381.65 0 \nL -0 0 \nL -0 248.518125 \nz\n\" style=\"fill: none\"/>\n  </g>\n  <g id=\"axes_1\">\n   <g id=\"patch_2\">\n    <path d=\"M 39.65 224.64 \nL 374.45 224.64 \nL 374.45 7.2 \nL 39.65 7.2 \nz\n\" style=\"fill: #ffffff\"/>\n   </g>\n   <g id=\"PathCollection_1\">\n    <defs>\n     <path id=\"m628d5316c5\" d=\"M 0 3 \nC 0.795609 3 1.55874 2.683901 2.12132 2.12132 \nC 2.683901 1.55874 3 0.795609 3 0 \nC 3 -0.795609 2.683901 -1.55874 2.12132 -2.12132 \nC 1.55874 -2.683901 0.795609 -3 0 -3 \nC -0.795609 -3 -1.55874 -2.683901 -2.12132 -2.12132 \nC -2.683901 -1.55874 -3 -0.795609 -3 0 \nC -3 0.795609 -2.683901 1.55874 -2.12132 2.12132 \nC -1.55874 2.683901 -0.795609 3 0 3 \nz\n\" style=\"stroke: #1f77b4\"/>\n    </defs>\n    <g clip-path=\"url(#pdf919f5aa9)\">\n     <use xlink:href=\"#m628d5316c5\" x=\"55.003575\" y=\"214.70708\" style=\"fill: #1f77b4; stroke: #1f77b4\"/>\n     <use xlink:href=\"#m628d5316c5\" x=\"54.950024\" y=\"214.729662\" style=\"fill: #1f77b4; stroke: #1f77b4\"/>\n     <use xlink:href=\"#m628d5316c5\" x=\"54.868182\" y=\"214.756364\" style=\"fill: #1f77b4; stroke: #1f77b4\"/>\n     <use xlink:href=\"#m628d5316c5\" x=\"54.98943\" y=\"214.719419\" style=\"fill: #1f77b4; stroke: #1f77b4\"/>\n     <use xlink:href=\"#m628d5316c5\" x=\"54.946488\" y=\"214.711788\" style=\"fill: #1f77b4; stroke: #1f77b4\"/>\n     <use xlink:href=\"#m628d5316c5\" x=\"54.979831\" y=\"214.723406\" style=\"fill: #1f77b4; stroke: #1f77b4\"/>\n     <use xlink:href=\"#m628d5316c5\" x=\"55.00307\" y=\"214.714688\" style=\"fill: #1f77b4; stroke: #1f77b4\"/>\n     <use xlink:href=\"#m628d5316c5\" x=\"54.974779\" y=\"214.724131\" style=\"fill: #1f77b4; stroke: #1f77b4\"/>\n     <use xlink:href=\"#m628d5316c5\" x=\"55.450171\" y=\"214.525775\" style=\"fill: #1f77b4; stroke: #1f77b4\"/>\n     <use xlink:href=\"#m628d5316c5\" x=\"55.462801\" y=\"214.506361\" style=\"fill: #1f77b4; stroke: #1f77b4\"/>\n     <use xlink:href=\"#m628d5316c5\" x=\"55.243545\" y=\"214.610233\" style=\"fill: #1f77b4; stroke: #1f77b4\"/>\n     <use xlink:href=\"#m628d5316c5\" x=\"55.237987\" y=\"214.617291\" style=\"fill: #1f77b4; stroke: #1f77b4\"/>\n     <use xlink:href=\"#m628d5316c5\" x=\"55.15665\" y=\"214.611614\" style=\"fill: #1f77b4; stroke: #1f77b4\"/>\n     <use xlink:href=\"#m628d5316c5\" x=\"55.160187\" y=\"214.657258\" style=\"fill: #1f77b4; stroke: #1f77b4\"/>\n     <use xlink:href=\"#m628d5316c5\" x=\"55.136442\" y=\"214.668285\" style=\"fill: #1f77b4; stroke: #1f77b4\"/>\n     <use xlink:href=\"#m628d5316c5\" x=\"55.127854\" y=\"214.669953\" style=\"fill: #1f77b4; stroke: #1f77b4\"/>\n     <use xlink:href=\"#m628d5316c5\" x=\"55.17989\" y=\"214.599632\" style=\"fill: #1f77b4; stroke: #1f77b4\"/>\n     <use xlink:href=\"#m628d5316c5\" x=\"55.115224\" y=\"214.625467\" style=\"fill: #1f77b4; stroke: #1f77b4\"/>\n     <use xlink:href=\"#m628d5316c5\" x=\"55.202623\" y=\"214.612964\" style=\"fill: #1f77b4; stroke: #1f77b4\"/>\n     <use xlink:href=\"#m628d5316c5\" x=\"55.063694\" y=\"214.685779\" style=\"fill: #1f77b4; stroke: #1f77b4\"/>\n     <use xlink:href=\"#m628d5316c5\" x=\"55.070767\" y=\"214.693367\" style=\"fill: #1f77b4; stroke: #1f77b4\"/>\n     <use xlink:href=\"#m628d5316c5\" x=\"55.151093\" y=\"214.664072\" style=\"fill: #1f77b4; stroke: #1f77b4\"/>\n     <use xlink:href=\"#m628d5316c5\" x=\"55.291538\" y=\"214.568211\" style=\"fill: #1f77b4; stroke: #1f77b4\"/>\n     <use xlink:href=\"#m628d5316c5\" x=\"55.318819\" y=\"214.560186\" style=\"fill: #1f77b4; stroke: #1f77b4\"/>\n     <use xlink:href=\"#m628d5316c5\" x=\"55.213738\" y=\"214.642199\" style=\"fill: #1f77b4; stroke: #1f77b4\"/>\n     <use xlink:href=\"#m628d5316c5\" x=\"55.340038\" y=\"214.582747\" style=\"fill: #1f77b4; stroke: #1f77b4\"/>\n     <use xlink:href=\"#m628d5316c5\" x=\"55.337006\" y=\"214.590155\" style=\"fill: #1f77b4; stroke: #1f77b4\"/>\n     <use xlink:href=\"#m628d5316c5\" x=\"55.286487\" y=\"214.594481\" style=\"fill: #1f77b4; stroke: #1f77b4\"/>\n     <use xlink:href=\"#m628d5316c5\" x=\"55.297601\" y=\"214.595982\" style=\"fill: #1f77b4; stroke: #1f77b4\"/>\n     <use xlink:href=\"#m628d5316c5\" x=\"55.312757\" y=\"214.567137\" style=\"fill: #1f77b4; stroke: #1f77b4\"/>\n     <use xlink:href=\"#m628d5316c5\" x=\"55.405713\" y=\"214.562643\" style=\"fill: #1f77b4; stroke: #1f77b4\"/>\n     <use xlink:href=\"#m628d5316c5\" x=\"55.220811\" y=\"214.642135\" style=\"fill: #1f77b4; stroke: #1f77b4\"/>\n     <use xlink:href=\"#m628d5316c5\" x=\"55.148567\" y=\"214.669351\" style=\"fill: #1f77b4; stroke: #1f77b4\"/>\n     <use xlink:href=\"#m628d5316c5\" x=\"55.186962\" y=\"214.65587\" style=\"fill: #1f77b4; stroke: #1f77b4\"/>\n     <use xlink:href=\"#m628d5316c5\" x=\"55.103099\" y=\"214.673286\" style=\"fill: #1f77b4; stroke: #1f77b4\"/>\n     <use xlink:href=\"#m628d5316c5\" x=\"55.159176\" y=\"214.668226\" style=\"fill: #1f77b4; stroke: #1f77b4\"/>\n     <use xlink:href=\"#m628d5316c5\" x=\"55.337512\" y=\"214.596908\" style=\"fill: #1f77b4; stroke: #1f77b4\"/>\n     <use xlink:href=\"#m628d5316c5\" x=\"55.669932\" y=\"214.454357\" style=\"fill: #1f77b4; stroke: #1f77b4\"/>\n     <use xlink:href=\"#m628d5316c5\" x=\"55.430468\" y=\"214.539396\" style=\"fill: #1f77b4; stroke: #1f77b4\"/>\n     <use xlink:href=\"#m628d5316c5\" x=\"55.335491\" y=\"214.580399\" style=\"fill: #1f77b4; stroke: #1f77b4\"/>\n     <use xlink:href=\"#m628d5316c5\" x=\"55.345595\" y=\"214.584847\" style=\"fill: #1f77b4; stroke: #1f77b4\"/>\n     <use xlink:href=\"#m628d5316c5\" x=\"55.394094\" y=\"214.571092\" style=\"fill: #1f77b4; stroke: #1f77b4\"/>\n     <use xlink:href=\"#m628d5316c5\" x=\"55.342564\" y=\"214.583418\" style=\"fill: #1f77b4; stroke: #1f77b4\"/>\n     <use xlink:href=\"#m628d5316c5\" x=\"55.094006\" y=\"214.523818\" style=\"fill: #1f77b4; stroke: #1f77b4\"/>\n     <use xlink:href=\"#m628d5316c5\" x=\"55.555758\" y=\"214.513425\" style=\"fill: #1f77b4; stroke: #1f77b4\"/>\n     <use xlink:href=\"#m628d5316c5\" x=\"55.618402\" y=\"214.477101\" style=\"fill: #1f77b4; stroke: #1f77b4\"/>\n     <use xlink:href=\"#m628d5316c5\" x=\"55.685594\" y=\"214.445877\" style=\"fill: #1f77b4; stroke: #1f77b4\"/>\n     <use xlink:href=\"#m628d5316c5\" x=\"55.710854\" y=\"214.439323\" style=\"fill: #1f77b4; stroke: #1f77b4\"/>\n     <use xlink:href=\"#m628d5316c5\" x=\"55.790675\" y=\"214.385159\" style=\"fill: #1f77b4; stroke: #1f77b4\"/>\n     <use xlink:href=\"#m628d5316c5\" x=\"55.582533\" y=\"214.464341\" style=\"fill: #1f77b4; stroke: #1f77b4\"/>\n     <use xlink:href=\"#m628d5316c5\" x=\"55.614361\" y=\"214.482033\" style=\"fill: #1f77b4; stroke: #1f77b4\"/>\n     <use xlink:href=\"#m628d5316c5\" x=\"55.5502\" y=\"214.512606\" style=\"fill: #1f77b4; stroke: #1f77b4\"/>\n     <use xlink:href=\"#m628d5316c5\" x=\"55.616381\" y=\"214.487957\" style=\"fill: #1f77b4; stroke: #1f77b4\"/>\n     <use xlink:href=\"#m628d5316c5\" x=\"55.334986\" y=\"214.571403\" style=\"fill: #1f77b4; stroke: #1f77b4\"/>\n     <use xlink:href=\"#m628d5316c5\" x=\"55.427437\" y=\"214.547599\" style=\"fill: #1f77b4; stroke: #1f77b4\"/>\n     <use xlink:href=\"#m628d5316c5\" x=\"55.649725\" y=\"214.441096\" style=\"fill: #1f77b4; stroke: #1f77b4\"/>\n     <use xlink:href=\"#m628d5316c5\" x=\"55.615371\" y=\"214.459287\" style=\"fill: #1f77b4; stroke: #1f77b4\"/>\n     <use xlink:href=\"#m628d5316c5\" x=\"55.522414\" y=\"214.510997\" style=\"fill: #1f77b4; stroke: #1f77b4\"/>\n     <use xlink:href=\"#m628d5316c5\" x=\"55.672964\" y=\"214.463623\" style=\"fill: #1f77b4; stroke: #1f77b4\"/>\n     <use xlink:href=\"#m628d5316c5\" x=\"55.324376\" y=\"214.542618\" style=\"fill: #1f77b4; stroke: #1f77b4\"/>\n     <use xlink:href=\"#m628d5316c5\" x=\"55.268805\" y=\"214.582861\" style=\"fill: #1f77b4; stroke: #1f77b4\"/>\n     <use xlink:href=\"#m628d5316c5\" x=\"55.370855\" y=\"214.568553\" style=\"fill: #1f77b4; stroke: #1f77b4\"/>\n     <use xlink:href=\"#m628d5316c5\" x=\"55.470884\" y=\"214.524059\" style=\"fill: #1f77b4; stroke: #1f77b4\"/>\n     <use xlink:href=\"#m628d5316c5\" x=\"55.428953\" y=\"214.537503\" style=\"fill: #1f77b4; stroke: #1f77b4\"/>\n     <use xlink:href=\"#m628d5316c5\" x=\"55.47341\" y=\"214.548501\" style=\"fill: #1f77b4; stroke: #1f77b4\"/>\n     <use xlink:href=\"#m628d5316c5\" x=\"55.373381\" y=\"214.552144\" style=\"fill: #1f77b4; stroke: #1f77b4\"/>\n     <use xlink:href=\"#m628d5316c5\" x=\"55.37136\" y=\"214.573375\" style=\"fill: #1f77b4; stroke: #1f77b4\"/>\n     <use xlink:href=\"#m628d5316c5\" x=\"55.333975\" y=\"214.570946\" style=\"fill: #1f77b4; stroke: #1f77b4\"/>\n     <use xlink:href=\"#m628d5316c5\" x=\"55.377422\" y=\"214.580602\" style=\"fill: #1f77b4; stroke: #1f77b4\"/>\n     <use xlink:href=\"#m628d5316c5\" x=\"55.325892\" y=\"214.598968\" style=\"fill: #1f77b4; stroke: #1f77b4\"/>\n     <use xlink:href=\"#m628d5316c5\" x=\"55.644673\" y=\"214.467984\" style=\"fill: #1f77b4; stroke: #1f77b4\"/>\n     <use xlink:href=\"#m628d5316c5\" x=\"55.67751\" y=\"214.457209\" style=\"fill: #1f77b4; stroke: #1f77b4\"/>\n     <use xlink:href=\"#m628d5316c5\" x=\"55.811388\" y=\"214.384864\" style=\"fill: #1f77b4; stroke: #1f77b4\"/>\n     <use xlink:href=\"#m628d5316c5\" x=\"55.868981\" y=\"214.36089\" style=\"fill: #1f77b4; stroke: #1f77b4\"/>\n     <use xlink:href=\"#m628d5316c5\" x=\"55.921522\" y=\"214.34243\" style=\"fill: #1f77b4; stroke: #1f77b4\"/>\n     <use xlink:href=\"#m628d5316c5\" x=\"55.740155\" y=\"214.420071\" style=\"fill: #1f77b4; stroke: #1f77b4\"/>\n     <use xlink:href=\"#m628d5316c5\" x=\"55.911923\" y=\"214.344965\" style=\"fill: #1f77b4; stroke: #1f77b4\"/>\n     <use xlink:href=\"#m628d5316c5\" x=\"55.761879\" y=\"214.404905\" style=\"fill: #1f77b4; stroke: #1f77b4\"/>\n     <use xlink:href=\"#m628d5316c5\" x=\"55.856856\" y=\"214.365095\" style=\"fill: #1f77b4; stroke: #1f77b4\"/>\n     <use xlink:href=\"#m628d5316c5\" x=\"56.064998\" y=\"214.268556\" style=\"fill: #1f77b4; stroke: #1f77b4\"/>\n     <use xlink:href=\"#m628d5316c5\" x=\"55.988713\" y=\"214.28196\" style=\"fill: #1f77b4; stroke: #1f77b4\"/>\n     <use xlink:href=\"#m628d5316c5\" x=\"56.359024\" y=\"214.08478\" style=\"fill: #1f77b4; stroke: #1f77b4\"/>\n     <use xlink:href=\"#m628d5316c5\" x=\"56.569692\" y=\"214.00439\" style=\"fill: #1f77b4; stroke: #1f77b4\"/>\n     <use xlink:href=\"#m628d5316c5\" x=\"56.529276\" y=\"213.963605\" style=\"fill: #1f77b4; stroke: #1f77b4\"/>\n     <use xlink:href=\"#m628d5316c5\" x=\"56.948591\" y=\"213.811126\" style=\"fill: #1f77b4; stroke: #1f77b4\"/>\n     <use xlink:href=\"#m628d5316c5\" x=\"56.747017\" y=\"213.689121\" style=\"fill: #1f77b4; stroke: #1f77b4\"/>\n     <use xlink:href=\"#m628d5316c5\" x=\"56.761162\" y=\"213.793963\" style=\"fill: #1f77b4; stroke: #1f77b4\"/>\n     <use xlink:href=\"#m628d5316c5\" x=\"58.378304\" y=\"212.792912\" style=\"fill: #1f77b4; stroke: #1f77b4\"/>\n     <use xlink:href=\"#m628d5316c5\" x=\"59.009802\" y=\"212.230388\" style=\"fill: #1f77b4; stroke: #1f77b4\"/>\n     <use xlink:href=\"#m628d5316c5\" x=\"60.143469\" y=\"211.380812\" style=\"fill: #1f77b4; stroke: #1f77b4\"/>\n     <use xlink:href=\"#m628d5316c5\" x=\"61.262989\" y=\"210.663629\" style=\"fill: #1f77b4; stroke: #1f77b4\"/>\n     <use xlink:href=\"#m628d5316c5\" x=\"62.347651\" y=\"210.073555\" style=\"fill: #1f77b4; stroke: #1f77b4\"/>\n     <use xlink:href=\"#m628d5316c5\" x=\"62.340073\" y=\"209.949208\" style=\"fill: #1f77b4; stroke: #1f77b4\"/>\n     <use xlink:href=\"#m628d5316c5\" x=\"63.2075\" y=\"209.554762\" style=\"fill: #1f77b4; stroke: #1f77b4\"/>\n     <use xlink:href=\"#m628d5316c5\" x=\"63.092315\" y=\"209.500582\" style=\"fill: #1f77b4; stroke: #1f77b4\"/>\n     <use xlink:href=\"#m628d5316c5\" x=\"63.300962\" y=\"209.446358\" style=\"fill: #1f77b4; stroke: #1f77b4\"/>\n     <use xlink:href=\"#m628d5316c5\" x=\"62.469405\" y=\"209.976161\" style=\"fill: #1f77b4; stroke: #1f77b4\"/>\n     <use xlink:href=\"#m628d5316c5\" x=\"62.690177\" y=\"209.958314\" style=\"fill: #1f77b4; stroke: #1f77b4\"/>\n     <use xlink:href=\"#m628d5316c5\" x=\"60.894194\" y=\"210.961621\" style=\"fill: #1f77b4; stroke: #1f77b4\"/>\n     <use xlink:href=\"#m628d5316c5\" x=\"61.41657\" y=\"210.530382\" style=\"fill: #1f77b4; stroke: #1f77b4\"/>\n     <use xlink:href=\"#m628d5316c5\" x=\"60.982099\" y=\"210.701924\" style=\"fill: #1f77b4; stroke: #1f77b4\"/>\n     <use xlink:href=\"#m628d5316c5\" x=\"62.868511\" y=\"209.77022\" style=\"fill: #1f77b4; stroke: #1f77b4\"/>\n     <use xlink:href=\"#m628d5316c5\" x=\"62.963489\" y=\"209.612326\" style=\"fill: #1f77b4; stroke: #1f77b4\"/>\n     <use xlink:href=\"#m628d5316c5\" x=\"65.763302\" y=\"207.789202\" style=\"fill: #1f77b4; stroke: #1f77b4\"/>\n     <use xlink:href=\"#m628d5316c5\" x=\"64.267912\" y=\"208.897251\" style=\"fill: #1f77b4; stroke: #1f77b4\"/>\n     <use xlink:href=\"#m628d5316c5\" x=\"64.885771\" y=\"208.484022\" style=\"fill: #1f77b4; stroke: #1f77b4\"/>\n     <use xlink:href=\"#m628d5316c5\" x=\"64.439175\" y=\"208.54758\" style=\"fill: #1f77b4; stroke: #1f77b4\"/>\n     <use xlink:href=\"#m628d5316c5\" x=\"64.314896\" y=\"208.63069\" style=\"fill: #1f77b4; stroke: #1f77b4\"/>\n     <use xlink:href=\"#m628d5316c5\" x=\"64.224465\" y=\"208.701498\" style=\"fill: #1f77b4; stroke: #1f77b4\"/>\n     <use xlink:href=\"#m628d5316c5\" x=\"66.053285\" y=\"207.546838\" style=\"fill: #1f77b4; stroke: #1f77b4\"/>\n     <use xlink:href=\"#m628d5316c5\" x=\"66.914145\" y=\"207.068919\" style=\"fill: #1f77b4; stroke: #1f77b4\"/>\n     <use xlink:href=\"#m628d5316c5\" x=\"67.043475\" y=\"206.994581\" style=\"fill: #1f77b4; stroke: #1f77b4\"/>\n     <use xlink:href=\"#m628d5316c5\" x=\"67.056106\" y=\"206.971265\" style=\"fill: #1f77b4; stroke: #1f77b4\"/>\n     <use xlink:href=\"#m628d5316c5\" x=\"66.013375\" y=\"207.596889\" style=\"fill: #1f77b4; stroke: #1f77b4\"/>\n     <use xlink:href=\"#m628d5316c5\" x=\"66.493819\" y=\"207.310168\" style=\"fill: #1f77b4; stroke: #1f77b4\"/>\n     <use xlink:href=\"#m628d5316c5\" x=\"64.340661\" y=\"208.950911\" style=\"fill: #1f77b4; stroke: #1f77b4\"/>\n     <use xlink:href=\"#m628d5316c5\" x=\"64.383098\" y=\"208.638233\" style=\"fill: #1f77b4; stroke: #1f77b4\"/>\n     <use xlink:href=\"#m628d5316c5\" x=\"64.69329\" y=\"208.581783\" style=\"fill: #1f77b4; stroke: #1f77b4\"/>\n     <use xlink:href=\"#m628d5316c5\" x=\"64.417451\" y=\"208.522159\" style=\"fill: #1f77b4; stroke: #1f77b4\"/>\n     <use xlink:href=\"#m628d5316c5\" x=\"63.288837\" y=\"209.377191\" style=\"fill: #1f77b4; stroke: #1f77b4\"/>\n     <use xlink:href=\"#m628d5316c5\" x=\"64.210826\" y=\"208.779809\" style=\"fill: #1f77b4; stroke: #1f77b4\"/>\n     <use xlink:href=\"#m628d5316c5\" x=\"64.389666\" y=\"208.689806\" style=\"fill: #1f77b4; stroke: #1f77b4\"/>\n     <use xlink:href=\"#m628d5316c5\" x=\"66.306896\" y=\"207.537173\" style=\"fill: #1f77b4; stroke: #1f77b4\"/>\n     <use xlink:href=\"#m628d5316c5\" x=\"66.514027\" y=\"207.400228\" style=\"fill: #1f77b4; stroke: #1f77b4\"/>\n     <use xlink:href=\"#m628d5316c5\" x=\"66.50948\" y=\"207.320604\" style=\"fill: #1f77b4; stroke: #1f77b4\"/>\n     <use xlink:href=\"#m628d5316c5\" x=\"67.436015\" y=\"206.661795\" style=\"fill: #1f77b4; stroke: #1f77b4\"/>\n     <use xlink:href=\"#m628d5316c5\" x=\"66.724695\" y=\"206.990356\" style=\"fill: #1f77b4; stroke: #1f77b4\"/>\n     <use xlink:href=\"#m628d5316c5\" x=\"66.194236\" y=\"207.549086\" style=\"fill: #1f77b4; stroke: #1f77b4\"/>\n     <use xlink:href=\"#m628d5316c5\" x=\"67.114203\" y=\"207.021493\" style=\"fill: #1f77b4; stroke: #1f77b4\"/>\n     <use xlink:href=\"#m628d5316c5\" x=\"65.301549\" y=\"208.168806\" style=\"fill: #1f77b4; stroke: #1f77b4\"/>\n     <use xlink:href=\"#m628d5316c5\" x=\"66.164935\" y=\"207.545716\" style=\"fill: #1f77b4; stroke: #1f77b4\"/>\n     <use xlink:href=\"#m628d5316c5\" x=\"66.517564\" y=\"207.205107\" style=\"fill: #1f77b4; stroke: #1f77b4\"/>\n     <use xlink:href=\"#m628d5316c5\" x=\"67.290012\" y=\"206.811932\" style=\"fill: #1f77b4; stroke: #1f77b4\"/>\n     <use xlink:href=\"#m628d5316c5\" x=\"67.235451\" y=\"206.925383\" style=\"fill: #1f77b4; stroke: #1f77b4\"/>\n     <use xlink:href=\"#m628d5316c5\" x=\"66.491798\" y=\"207.332705\" style=\"fill: #1f77b4; stroke: #1f77b4\"/>\n     <use xlink:href=\"#m628d5316c5\" x=\"64.899411\" y=\"208.275573\" style=\"fill: #1f77b4; stroke: #1f77b4\"/>\n     <use xlink:href=\"#m628d5316c5\" x=\"64.505861\" y=\"208.497875\" style=\"fill: #1f77b4; stroke: #1f77b4\"/>\n     <use xlink:href=\"#m628d5316c5\" x=\"65.544045\" y=\"208.072225\" style=\"fill: #1f77b4; stroke: #1f77b4\"/>\n     <use xlink:href=\"#m628d5316c5\" x=\"65.008534\" y=\"208.289609\" style=\"fill: #1f77b4; stroke: #1f77b4\"/>\n     <use xlink:href=\"#m628d5316c5\" x=\"64.602354\" y=\"208.36599\" style=\"fill: #1f77b4; stroke: #1f77b4\"/>\n     <use xlink:href=\"#m628d5316c5\" x=\"64.443217\" y=\"208.579671\" style=\"fill: #1f77b4; stroke: #1f77b4\"/>\n     <use xlink:href=\"#m628d5316c5\" x=\"64.175461\" y=\"208.780373\" style=\"fill: #1f77b4; stroke: #1f77b4\"/>\n     <use xlink:href=\"#m628d5316c5\" x=\"64.099176\" y=\"208.888552\" style=\"fill: #1f77b4; stroke: #1f77b4\"/>\n     <use xlink:href=\"#m628d5316c5\" x=\"66.936373\" y=\"206.870091\" style=\"fill: #1f77b4; stroke: #1f77b4\"/>\n     <use xlink:href=\"#m628d5316c5\" x=\"64.41442\" y=\"208.612532\" style=\"fill: #1f77b4; stroke: #1f77b4\"/>\n     <use xlink:href=\"#m628d5316c5\" x=\"65.035815\" y=\"208.264656\" style=\"fill: #1f77b4; stroke: #1f77b4\"/>\n     <use xlink:href=\"#m628d5316c5\" x=\"65.004493\" y=\"208.258563\" style=\"fill: #1f77b4; stroke: #1f77b4\"/>\n     <use xlink:href=\"#m628d5316c5\" x=\"65.5299\" y=\"207.86472\" style=\"fill: #1f77b4; stroke: #1f77b4\"/>\n     <use xlink:href=\"#m628d5316c5\" x=\"65.037331\" y=\"208.218595\" style=\"fill: #1f77b4; stroke: #1f77b4\"/>\n     <use xlink:href=\"#m628d5316c5\" x=\"65.184849\" y=\"208.127349\" style=\"fill: #1f77b4; stroke: #1f77b4\"/>\n     <use xlink:href=\"#m628d5316c5\" x=\"65.322767\" y=\"208.010504\" style=\"fill: #1f77b4; stroke: #1f77b4\"/>\n     <use xlink:href=\"#m628d5316c5\" x=\"65.349544\" y=\"208.008589\" style=\"fill: #1f77b4; stroke: #1f77b4\"/>\n     <use xlink:href=\"#m628d5316c5\" x=\"65.515754\" y=\"207.933509\" style=\"fill: #1f77b4; stroke: #1f77b4\"/>\n     <use xlink:href=\"#m628d5316c5\" x=\"65.23941\" y=\"208.04695\" style=\"fill: #1f77b4; stroke: #1f77b4\"/>\n     <use xlink:href=\"#m628d5316c5\" x=\"64.653379\" y=\"208.527777\" style=\"fill: #1f77b4; stroke: #1f77b4\"/>\n     <use xlink:href=\"#m628d5316c5\" x=\"64.133024\" y=\"208.746724\" style=\"fill: #1f77b4; stroke: #1f77b4\"/>\n     <use xlink:href=\"#m628d5316c5\" x=\"64.05876\" y=\"208.878351\" style=\"fill: #1f77b4; stroke: #1f77b4\"/>\n     <use xlink:href=\"#m628d5316c5\" x=\"63.544468\" y=\"209.307197\" style=\"fill: #1f77b4; stroke: #1f77b4\"/>\n     <use xlink:href=\"#m628d5316c5\" x=\"63.289848\" y=\"209.225797\" style=\"fill: #1f77b4; stroke: #1f77b4\"/>\n     <use xlink:href=\"#m628d5316c5\" x=\"63.850618\" y=\"208.978965\" style=\"fill: #1f77b4; stroke: #1f77b4\"/>\n     <use xlink:href=\"#m628d5316c5\" x=\"63.519713\" y=\"209.083939\" style=\"fill: #1f77b4; stroke: #1f77b4\"/>\n     <use xlink:href=\"#m628d5316c5\" x=\"65.043899\" y=\"208.214175\" style=\"fill: #1f77b4; stroke: #1f77b4\"/>\n     <use xlink:href=\"#m628d5316c5\" x=\"65.984579\" y=\"207.663497\" style=\"fill: #1f77b4; stroke: #1f77b4\"/>\n     <use xlink:href=\"#m628d5316c5\" x=\"66.805527\" y=\"207.194766\" style=\"fill: #1f77b4; stroke: #1f77b4\"/>\n     <use xlink:href=\"#m628d5316c5\" x=\"66.96517\" y=\"207.123432\" style=\"fill: #1f77b4; stroke: #1f77b4\"/>\n     <use xlink:href=\"#m628d5316c5\" x=\"67.955865\" y=\"206.32752\" style=\"fill: #1f77b4; stroke: #1f77b4\"/>\n     <use xlink:href=\"#m628d5316c5\" x=\"69.225429\" y=\"205.418013\" style=\"fill: #1f77b4; stroke: #1f77b4\"/>\n     <use xlink:href=\"#m628d5316c5\" x=\"69.504299\" y=\"205.29687\" style=\"fill: #1f77b4; stroke: #1f77b4\"/>\n     <use xlink:href=\"#m628d5316c5\" x=\"70.052945\" y=\"204.832085\" style=\"fill: #1f77b4; stroke: #1f77b4\"/>\n     <use xlink:href=\"#m628d5316c5\" x=\"70.352022\" y=\"204.760489\" style=\"fill: #1f77b4; stroke: #1f77b4\"/>\n     <use xlink:href=\"#m628d5316c5\" x=\"69.645755\" y=\"205.122977\" style=\"fill: #1f77b4; stroke: #1f77b4\"/>\n     <use xlink:href=\"#m628d5316c5\" x=\"69.948874\" y=\"205.168182\" style=\"fill: #1f77b4; stroke: #1f77b4\"/>\n     <use xlink:href=\"#m628d5316c5\" x=\"72.635017\" y=\"203.374256\" style=\"fill: #1f77b4; stroke: #1f77b4\"/>\n     <use xlink:href=\"#m628d5316c5\" x=\"72.748181\" y=\"203.093006\" style=\"fill: #1f77b4; stroke: #1f77b4\"/>\n     <use xlink:href=\"#m628d5316c5\" x=\"73.31451\" y=\"202.812303\" style=\"fill: #1f77b4; stroke: #1f77b4\"/>\n     <use xlink:href=\"#m628d5316c5\" x=\"72.167708\" y=\"203.466298\" style=\"fill: #1f77b4; stroke: #1f77b4\"/>\n     <use xlink:href=\"#m628d5316c5\" x=\"69.909468\" y=\"205.217496\" style=\"fill: #1f77b4; stroke: #1f77b4\"/>\n     <use xlink:href=\"#m628d5316c5\" x=\"70.473776\" y=\"204.895329\" style=\"fill: #1f77b4; stroke: #1f77b4\"/>\n     <use xlink:href=\"#m628d5316c5\" x=\"71.348275\" y=\"204.024489\" style=\"fill: #1f77b4; stroke: #1f77b4\"/>\n     <use xlink:href=\"#m628d5316c5\" x=\"73.130616\" y=\"203.042942\" style=\"fill: #1f77b4; stroke: #1f77b4\"/>\n     <use xlink:href=\"#m628d5316c5\" x=\"71.38465\" y=\"204.021302\" style=\"fill: #1f77b4; stroke: #1f77b4\"/>\n     <use xlink:href=\"#m628d5316c5\" x=\"71.168424\" y=\"204.028482\" style=\"fill: #1f77b4; stroke: #1f77b4\"/>\n     <use xlink:href=\"#m628d5316c5\" x=\"71.907024\" y=\"203.896846\" style=\"fill: #1f77b4; stroke: #1f77b4\"/>\n     <use xlink:href=\"#m628d5316c5\" x=\"70.985038\" y=\"204.259765\" style=\"fill: #1f77b4; stroke: #1f77b4\"/>\n     <use xlink:href=\"#m628d5316c5\" x=\"70.113064\" y=\"204.894476\" style=\"fill: #1f77b4; stroke: #1f77b4\"/>\n     <use xlink:href=\"#m628d5316c5\" x=\"69.40629\" y=\"205.568445\" style=\"fill: #1f77b4; stroke: #1f77b4\"/>\n     <use xlink:href=\"#m628d5316c5\" x=\"69.862991\" y=\"205.102172\" style=\"fill: #1f77b4; stroke: #1f77b4\"/>\n     <use xlink:href=\"#m628d5316c5\" x=\"71.062333\" y=\"204.159731\" style=\"fill: #1f77b4; stroke: #1f77b4\"/>\n     <use xlink:href=\"#m628d5316c5\" x=\"70.800639\" y=\"204.462937\" style=\"fill: #1f77b4; stroke: #1f77b4\"/>\n     <use xlink:href=\"#m628d5316c5\" x=\"70.293926\" y=\"204.975398\" style=\"fill: #1f77b4; stroke: #1f77b4\"/>\n     <use xlink:href=\"#m628d5316c5\" x=\"71.674633\" y=\"203.740374\" style=\"fill: #1f77b4; stroke: #1f77b4\"/>\n     <use xlink:href=\"#m628d5316c5\" x=\"70.568753\" y=\"204.571666\" style=\"fill: #1f77b4; stroke: #1f77b4\"/>\n     <use xlink:href=\"#m628d5316c5\" x=\"70.471249\" y=\"204.729372\" style=\"fill: #1f77b4; stroke: #1f77b4\"/>\n     <use xlink:href=\"#m628d5316c5\" x=\"71.397784\" y=\"204.370745\" style=\"fill: #1f77b4; stroke: #1f77b4\"/>\n     <use xlink:href=\"#m628d5316c5\" x=\"70.443968\" y=\"204.496546\" style=\"fill: #1f77b4; stroke: #1f77b4\"/>\n     <use xlink:href=\"#m628d5316c5\" x=\"70.391934\" y=\"204.667471\" style=\"fill: #1f77b4; stroke: #1f77b4\"/>\n     <use xlink:href=\"#m628d5316c5\" x=\"69.933718\" y=\"205.053218\" style=\"fill: #1f77b4; stroke: #1f77b4\"/>\n     <use xlink:href=\"#m628d5316c5\" x=\"69.336068\" y=\"205.581539\" style=\"fill: #1f77b4; stroke: #1f77b4\"/>\n     <use xlink:href=\"#m628d5316c5\" x=\"68.60555\" y=\"205.754516\" style=\"fill: #1f77b4; stroke: #1f77b4\"/>\n     <use xlink:href=\"#m628d5316c5\" x=\"68.685371\" y=\"205.996933\" style=\"fill: #1f77b4; stroke: #1f77b4\"/>\n     <use xlink:href=\"#m628d5316c5\" x=\"70.720312\" y=\"204.629015\" style=\"fill: #1f77b4; stroke: #1f77b4\"/>\n     <use xlink:href=\"#m628d5316c5\" x=\"72.014632\" y=\"203.821693\" style=\"fill: #1f77b4; stroke: #1f77b4\"/>\n     <use xlink:href=\"#m628d5316c5\" x=\"70.766285\" y=\"204.482009\" style=\"fill: #1f77b4; stroke: #1f77b4\"/>\n     <use xlink:href=\"#m628d5316c5\" x=\"69.561387\" y=\"205.357523\" style=\"fill: #1f77b4; stroke: #1f77b4\"/>\n     <use xlink:href=\"#m628d5316c5\" x=\"70.051934\" y=\"205.092661\" style=\"fill: #1f77b4; stroke: #1f77b4\"/>\n     <use xlink:href=\"#m628d5316c5\" x=\"70.889554\" y=\"204.298054\" style=\"fill: #1f77b4; stroke: #1f77b4\"/>\n     <use xlink:href=\"#m628d5316c5\" x=\"70.205009\" y=\"205.029508\" style=\"fill: #1f77b4; stroke: #1f77b4\"/>\n     <use xlink:href=\"#m628d5316c5\" x=\"68.13622\" y=\"206.095607\" style=\"fill: #1f77b4; stroke: #1f77b4\"/>\n     <use xlink:href=\"#m628d5316c5\" x=\"68.566144\" y=\"205.925978\" style=\"fill: #1f77b4; stroke: #1f77b4\"/>\n     <use xlink:href=\"#m628d5316c5\" x=\"69.014256\" y=\"205.584638\" style=\"fill: #1f77b4; stroke: #1f77b4\"/>\n     <use xlink:href=\"#m628d5316c5\" x=\"69.582605\" y=\"205.351135\" style=\"fill: #1f77b4; stroke: #1f77b4\"/>\n     <use xlink:href=\"#m628d5316c5\" x=\"70.859243\" y=\"204.326156\" style=\"fill: #1f77b4; stroke: #1f77b4\"/>\n     <use xlink:href=\"#m628d5316c5\" x=\"71.531663\" y=\"204.045797\" style=\"fill: #1f77b4; stroke: #1f77b4\"/>\n     <use xlink:href=\"#m628d5316c5\" x=\"70.403553\" y=\"204.515673\" style=\"fill: #1f77b4; stroke: #1f77b4\"/>\n     <use xlink:href=\"#m628d5316c5\" x=\"70.097402\" y=\"204.98013\" style=\"fill: #1f77b4; stroke: #1f77b4\"/>\n     <use xlink:href=\"#m628d5316c5\" x=\"69.913511\" y=\"205.163099\" style=\"fill: #1f77b4; stroke: #1f77b4\"/>\n     <use xlink:href=\"#m628d5316c5\" x=\"69.116811\" y=\"205.458305\" style=\"fill: #1f77b4; stroke: #1f77b4\"/>\n     <use xlink:href=\"#m628d5316c5\" x=\"70.884503\" y=\"204.370905\" style=\"fill: #1f77b4; stroke: #1f77b4\"/>\n     <use xlink:href=\"#m628d5316c5\" x=\"71.343224\" y=\"204.206166\" style=\"fill: #1f77b4; stroke: #1f77b4\"/>\n     <use xlink:href=\"#m628d5316c5\" x=\"71.425065\" y=\"203.992584\" style=\"fill: #1f77b4; stroke: #1f77b4\"/>\n     <use xlink:href=\"#m628d5316c5\" x=\"68.471673\" y=\"205.983251\" style=\"fill: #1f77b4; stroke: #1f77b4\"/>\n     <use xlink:href=\"#m628d5316c5\" x=\"68.990512\" y=\"205.755962\" style=\"fill: #1f77b4; stroke: #1f77b4\"/>\n     <use xlink:href=\"#m628d5316c5\" x=\"70.10296\" y=\"205.052372\" style=\"fill: #1f77b4; stroke: #1f77b4\"/>\n     <use xlink:href=\"#m628d5316c5\" x=\"67.898272\" y=\"206.347426\" style=\"fill: #1f77b4; stroke: #1f77b4\"/>\n     <use xlink:href=\"#m628d5316c5\" x=\"68.684867\" y=\"205.883872\" style=\"fill: #1f77b4; stroke: #1f77b4\"/>\n     <use xlink:href=\"#m628d5316c5\" x=\"67.833607\" y=\"206.586784\" style=\"fill: #1f77b4; stroke: #1f77b4\"/>\n     <use xlink:href=\"#m628d5316c5\" x=\"66.311947\" y=\"207.358102\" style=\"fill: #1f77b4; stroke: #1f77b4\"/>\n     <use xlink:href=\"#m628d5316c5\" x=\"64.303276\" y=\"208.951116\" style=\"fill: #1f77b4; stroke: #1f77b4\"/>\n     <use xlink:href=\"#m628d5316c5\" x=\"65.381876\" y=\"208.116471\" style=\"fill: #1f77b4; stroke: #1f77b4\"/>\n     <use xlink:href=\"#m628d5316c5\" x=\"65.037836\" y=\"208.251535\" style=\"fill: #1f77b4; stroke: #1f77b4\"/>\n     <use xlink:href=\"#m628d5316c5\" x=\"65.41926\" y=\"207.958759\" style=\"fill: #1f77b4; stroke: #1f77b4\"/>\n     <use xlink:href=\"#m628d5316c5\" x=\"65.815337\" y=\"207.703804\" style=\"fill: #1f77b4; stroke: #1f77b4\"/>\n     <use xlink:href=\"#m628d5316c5\" x=\"66.12957\" y=\"207.523215\" style=\"fill: #1f77b4; stroke: #1f77b4\"/>\n     <use xlink:href=\"#m628d5316c5\" x=\"65.219202\" y=\"207.876015\" style=\"fill: #1f77b4; stroke: #1f77b4\"/>\n     <use xlink:href=\"#m628d5316c5\" x=\"66.924248\" y=\"207.217766\" style=\"fill: #1f77b4; stroke: #1f77b4\"/>\n     <use xlink:href=\"#m628d5316c5\" x=\"66.971232\" y=\"207.032008\" style=\"fill: #1f77b4; stroke: #1f77b4\"/>\n     <use xlink:href=\"#m628d5316c5\" x=\"69.771044\" y=\"205.127998\" style=\"fill: #1f77b4; stroke: #1f77b4\"/>\n     <use xlink:href=\"#m628d5316c5\" x=\"70.894102\" y=\"204.411757\" style=\"fill: #1f77b4; stroke: #1f77b4\"/>\n     <use xlink:href=\"#m628d5316c5\" x=\"71.734247\" y=\"203.887934\" style=\"fill: #1f77b4; stroke: #1f77b4\"/>\n     <use xlink:href=\"#m628d5316c5\" x=\"70.860253\" y=\"204.497426\" style=\"fill: #1f77b4; stroke: #1f77b4\"/>\n     <use xlink:href=\"#m628d5316c5\" x=\"70.632913\" y=\"204.540068\" style=\"fill: #1f77b4; stroke: #1f77b4\"/>\n     <use xlink:href=\"#m628d5316c5\" x=\"71.566015\" y=\"204.083111\" style=\"fill: #1f77b4; stroke: #1f77b4\"/>\n     <use xlink:href=\"#m628d5316c5\" x=\"74.433019\" y=\"201.997934\" style=\"fill: #1f77b4; stroke: #1f77b4\"/>\n     <use xlink:href=\"#m628d5316c5\" x=\"75.7137\" y=\"201.266228\" style=\"fill: #1f77b4; stroke: #1f77b4\"/>\n     <use xlink:href=\"#m628d5316c5\" x=\"82.477301\" y=\"196.800247\" style=\"fill: #1f77b4; stroke: #1f77b4\"/>\n     <use xlink:href=\"#m628d5316c5\" x=\"86.316309\" y=\"194.433071\" style=\"fill: #1f77b4; stroke: #1f77b4\"/>\n     <use xlink:href=\"#m628d5316c5\" x=\"91.059621\" y=\"189.858891\" style=\"fill: #1f77b4; stroke: #1f77b4\"/>\n     <use xlink:href=\"#m628d5316c5\" x=\"96.065636\" y=\"187.395758\" style=\"fill: #1f77b4; stroke: #1f77b4\"/>\n     <use xlink:href=\"#m628d5316c5\" x=\"89.482389\" y=\"192.350713\" style=\"fill: #1f77b4; stroke: #1f77b4\"/>\n     <use xlink:href=\"#m628d5316c5\" x=\"80.625244\" y=\"197.737556\" style=\"fill: #1f77b4; stroke: #1f77b4\"/>\n     <use xlink:href=\"#m628d5316c5\" x=\"78.19271\" y=\"199.129159\" style=\"fill: #1f77b4; stroke: #1f77b4\"/>\n     <use xlink:href=\"#m628d5316c5\" x=\"91.590586\" y=\"191.152216\" style=\"fill: #1f77b4; stroke: #1f77b4\"/>\n     <use xlink:href=\"#m628d5316c5\" x=\"93.90187\" y=\"189.1158\" style=\"fill: #1f77b4; stroke: #1f77b4\"/>\n     <use xlink:href=\"#m628d5316c5\" x=\"94.316638\" y=\"188.991075\" style=\"fill: #1f77b4; stroke: #1f77b4\"/>\n     <use xlink:href=\"#m628d5316c5\" x=\"95.047155\" y=\"188.205905\" style=\"fill: #1f77b4; stroke: #1f77b4\"/>\n     <use xlink:href=\"#m628d5316c5\" x=\"98.549698\" y=\"185.958693\" style=\"fill: #1f77b4; stroke: #1f77b4\"/>\n     <use xlink:href=\"#m628d5316c5\" x=\"123.234731\" y=\"171.147705\" style=\"fill: #1f77b4; stroke: #1f77b4\"/>\n     <use xlink:href=\"#m628d5316c5\" x=\"124.381527\" y=\"169.408254\" style=\"fill: #1f77b4; stroke: #1f77b4\"/>\n     <use xlink:href=\"#m628d5316c5\" x=\"130.571223\" y=\"165.500429\" style=\"fill: #1f77b4; stroke: #1f77b4\"/>\n     <use xlink:href=\"#m628d5316c5\" x=\"125.608655\" y=\"168.312286\" style=\"fill: #1f77b4; stroke: #1f77b4\"/>\n     <use xlink:href=\"#m628d5316c5\" x=\"162.72057\" y=\"144.512499\" style=\"fill: #1f77b4; stroke: #1f77b4\"/>\n     <use xlink:href=\"#m628d5316c5\" x=\"167.551789\" y=\"140.108821\" style=\"fill: #1f77b4; stroke: #1f77b4\"/>\n     <use xlink:href=\"#m628d5316c5\" x=\"167.147628\" y=\"141.887088\" style=\"fill: #1f77b4; stroke: #1f77b4\"/>\n     <use xlink:href=\"#m628d5316c5\" x=\"161.46919\" y=\"144.469285\" style=\"fill: #1f77b4; stroke: #1f77b4\"/>\n     <use xlink:href=\"#m628d5316c5\" x=\"161.373201\" y=\"145.32343\" style=\"fill: #1f77b4; stroke: #1f77b4\"/>\n     <use xlink:href=\"#m628d5316c5\" x=\"170.466781\" y=\"139.204062\" style=\"fill: #1f77b4; stroke: #1f77b4\"/>\n     <use xlink:href=\"#m628d5316c5\" x=\"157.129533\" y=\"148.525577\" style=\"fill: #1f77b4; stroke: #1f77b4\"/>\n     <use xlink:href=\"#m628d5316c5\" x=\"177.61787\" y=\"133.325937\" style=\"fill: #1f77b4; stroke: #1f77b4\"/>\n     <use xlink:href=\"#m628d5316c5\" x=\"198.934742\" y=\"121.482715\" style=\"fill: #1f77b4; stroke: #1f77b4\"/>\n     <use xlink:href=\"#m628d5316c5\" x=\"229.499275\" y=\"103.887644\" style=\"fill: #1f77b4; stroke: #1f77b4\"/>\n     <use xlink:href=\"#m628d5316c5\" x=\"218.096932\" y=\"105.571886\" style=\"fill: #1f77b4; stroke: #1f77b4\"/>\n     <use xlink:href=\"#m628d5316c5\" x=\"239.631035\" y=\"93.113095\" style=\"fill: #1f77b4; stroke: #1f77b4\"/>\n     <use xlink:href=\"#m628d5316c5\" x=\"254.387906\" y=\"81.571881\" style=\"fill: #1f77b4; stroke: #1f77b4\"/>\n     <use xlink:href=\"#m628d5316c5\" x=\"266.078201\" y=\"78.845244\" style=\"fill: #1f77b4; stroke: #1f77b4\"/>\n     <use xlink:href=\"#m628d5316c5\" x=\"274.408926\" y=\"70.876419\" style=\"fill: #1f77b4; stroke: #1f77b4\"/>\n     <use xlink:href=\"#m628d5316c5\" x=\"251.298605\" y=\"84.842592\" style=\"fill: #1f77b4; stroke: #1f77b4\"/>\n     <use xlink:href=\"#m628d5316c5\" x=\"241.376506\" y=\"94.894572\" style=\"fill: #1f77b4; stroke: #1f77b4\"/>\n     <use xlink:href=\"#m628d5316c5\" x=\"224.957542\" y=\"103.099355\" style=\"fill: #1f77b4; stroke: #1f77b4\"/>\n     <use xlink:href=\"#m628d5316c5\" x=\"212.83781\" y=\"108.765644\" style=\"fill: #1f77b4; stroke: #1f77b4\"/>\n     <use xlink:href=\"#m628d5316c5\" x=\"205.262355\" y=\"117.185635\" style=\"fill: #1f77b4; stroke: #1f77b4\"/>\n     <use xlink:href=\"#m628d5316c5\" x=\"206.732486\" y=\"115.410983\" style=\"fill: #1f77b4; stroke: #1f77b4\"/>\n     <use xlink:href=\"#m628d5316c5\" x=\"217.945379\" y=\"107.057433\" style=\"fill: #1f77b4; stroke: #1f77b4\"/>\n     <use xlink:href=\"#m628d5316c5\" x=\"225.040889\" y=\"103.441779\" style=\"fill: #1f77b4; stroke: #1f77b4\"/>\n     <use xlink:href=\"#m628d5316c5\" x=\"241.624049\" y=\"95.228303\" style=\"fill: #1f77b4; stroke: #1f77b4\"/>\n     <use xlink:href=\"#m628d5316c5\" x=\"258.821024\" y=\"80.444225\" style=\"fill: #1f77b4; stroke: #1f77b4\"/>\n     <use xlink:href=\"#m628d5316c5\" x=\"326.002379\" y=\"37.423991\" style=\"fill: #1f77b4; stroke: #1f77b4\"/>\n     <use xlink:href=\"#m628d5316c5\" x=\"359.231818\" y=\"19.36515\" style=\"fill: #1f77b4; stroke: #1f77b4\"/>\n     <use xlink:href=\"#m628d5316c5\" x=\"349.989213\" y=\"17.083636\" style=\"fill: #1f77b4; stroke: #1f77b4\"/>\n     <use xlink:href=\"#m628d5316c5\" x=\"346.167382\" y=\"20.268965\" style=\"fill: #1f77b4; stroke: #1f77b4\"/>\n     <use xlink:href=\"#m628d5316c5\" x=\"296.061759\" y=\"57.383064\" style=\"fill: #1f77b4; stroke: #1f77b4\"/>\n     <use xlink:href=\"#m628d5316c5\" x=\"288.082135\" y=\"59.030043\" style=\"fill: #1f77b4; stroke: #1f77b4\"/>\n     <use xlink:href=\"#m628d5316c5\" x=\"322.88528\" y=\"41.947694\" style=\"fill: #1f77b4; stroke: #1f77b4\"/>\n     <use xlink:href=\"#m628d5316c5\" x=\"319.073562\" y=\"42.431695\" style=\"fill: #1f77b4; stroke: #1f77b4\"/>\n    </g>\n   </g>\n   <g id=\"matplotlib.axis_1\">\n    <g id=\"xtick_1\">\n     <g id=\"line2d_1\">\n      <defs>\n       <path id=\"ma44184be8a\" d=\"M 0 0 \nL 0 3.5 \n\" style=\"stroke: #000000; stroke-width: 0.8\"/>\n      </defs>\n      <g>\n       <use xlink:href=\"#ma44184be8a\" x=\"53.942657\" y=\"224.64\" style=\"stroke: #000000; stroke-width: 0.8\"/>\n      </g>\n     </g>\n     <g id=\"text_1\">\n      <!-- 0 -->\n      <g transform=\"translate(50.761407 239.238437)scale(0.1 -0.1)\">\n       <defs>\n        <path id=\"DejaVuSans-30\" d=\"M 2034 4250 \nQ 1547 4250 1301 3770 \nQ 1056 3291 1056 2328 \nQ 1056 1369 1301 889 \nQ 1547 409 2034 409 \nQ 2525 409 2770 889 \nQ 3016 1369 3016 2328 \nQ 3016 3291 2770 3770 \nQ 2525 4250 2034 4250 \nz\nM 2034 4750 \nQ 2819 4750 3233 4129 \nQ 3647 3509 3647 2328 \nQ 3647 1150 3233 529 \nQ 2819 -91 2034 -91 \nQ 1250 -91 836 529 \nQ 422 1150 422 2328 \nQ 422 3509 836 4129 \nQ 1250 4750 2034 4750 \nz\n\" transform=\"scale(0.015625)\"/>\n       </defs>\n       <use xlink:href=\"#DejaVuSans-30\"/>\n      </g>\n     </g>\n    </g>\n    <g id=\"xtick_2\">\n     <g id=\"line2d_2\">\n      <g>\n       <use xlink:href=\"#ma44184be8a\" x=\"104.462547\" y=\"224.64\" style=\"stroke: #000000; stroke-width: 0.8\"/>\n      </g>\n     </g>\n     <g id=\"text_2\">\n      <!-- 200 -->\n      <g transform=\"translate(94.918797 239.238437)scale(0.1 -0.1)\">\n       <defs>\n        <path id=\"DejaVuSans-32\" d=\"M 1228 531 \nL 3431 531 \nL 3431 0 \nL 469 0 \nL 469 531 \nQ 828 903 1448 1529 \nQ 2069 2156 2228 2338 \nQ 2531 2678 2651 2914 \nQ 2772 3150 2772 3378 \nQ 2772 3750 2511 3984 \nQ 2250 4219 1831 4219 \nQ 1534 4219 1204 4116 \nQ 875 4013 500 3803 \nL 500 4441 \nQ 881 4594 1212 4672 \nQ 1544 4750 1819 4750 \nQ 2544 4750 2975 4387 \nQ 3406 4025 3406 3419 \nQ 3406 3131 3298 2873 \nQ 3191 2616 2906 2266 \nQ 2828 2175 2409 1742 \nQ 1991 1309 1228 531 \nz\n\" transform=\"scale(0.015625)\"/>\n       </defs>\n       <use xlink:href=\"#DejaVuSans-32\"/>\n       <use xlink:href=\"#DejaVuSans-30\" x=\"63.623047\"/>\n       <use xlink:href=\"#DejaVuSans-30\" x=\"127.246094\"/>\n      </g>\n     </g>\n    </g>\n    <g id=\"xtick_3\">\n     <g id=\"line2d_3\">\n      <g>\n       <use xlink:href=\"#ma44184be8a\" x=\"154.982437\" y=\"224.64\" style=\"stroke: #000000; stroke-width: 0.8\"/>\n      </g>\n     </g>\n     <g id=\"text_3\">\n      <!-- 400 -->\n      <g transform=\"translate(145.438687 239.238437)scale(0.1 -0.1)\">\n       <defs>\n        <path id=\"DejaVuSans-34\" d=\"M 2419 4116 \nL 825 1625 \nL 2419 1625 \nL 2419 4116 \nz\nM 2253 4666 \nL 3047 4666 \nL 3047 1625 \nL 3713 1625 \nL 3713 1100 \nL 3047 1100 \nL 3047 0 \nL 2419 0 \nL 2419 1100 \nL 313 1100 \nL 313 1709 \nL 2253 4666 \nz\n\" transform=\"scale(0.015625)\"/>\n       </defs>\n       <use xlink:href=\"#DejaVuSans-34\"/>\n       <use xlink:href=\"#DejaVuSans-30\" x=\"63.623047\"/>\n       <use xlink:href=\"#DejaVuSans-30\" x=\"127.246094\"/>\n      </g>\n     </g>\n    </g>\n    <g id=\"xtick_4\">\n     <g id=\"line2d_4\">\n      <g>\n       <use xlink:href=\"#ma44184be8a\" x=\"205.502327\" y=\"224.64\" style=\"stroke: #000000; stroke-width: 0.8\"/>\n      </g>\n     </g>\n     <g id=\"text_4\">\n      <!-- 600 -->\n      <g transform=\"translate(195.958577 239.238437)scale(0.1 -0.1)\">\n       <defs>\n        <path id=\"DejaVuSans-36\" d=\"M 2113 2584 \nQ 1688 2584 1439 2293 \nQ 1191 2003 1191 1497 \nQ 1191 994 1439 701 \nQ 1688 409 2113 409 \nQ 2538 409 2786 701 \nQ 3034 994 3034 1497 \nQ 3034 2003 2786 2293 \nQ 2538 2584 2113 2584 \nz\nM 3366 4563 \nL 3366 3988 \nQ 3128 4100 2886 4159 \nQ 2644 4219 2406 4219 \nQ 1781 4219 1451 3797 \nQ 1122 3375 1075 2522 \nQ 1259 2794 1537 2939 \nQ 1816 3084 2150 3084 \nQ 2853 3084 3261 2657 \nQ 3669 2231 3669 1497 \nQ 3669 778 3244 343 \nQ 2819 -91 2113 -91 \nQ 1303 -91 875 529 \nQ 447 1150 447 2328 \nQ 447 3434 972 4092 \nQ 1497 4750 2381 4750 \nQ 2619 4750 2861 4703 \nQ 3103 4656 3366 4563 \nz\n\" transform=\"scale(0.015625)\"/>\n       </defs>\n       <use xlink:href=\"#DejaVuSans-36\"/>\n       <use xlink:href=\"#DejaVuSans-30\" x=\"63.623047\"/>\n       <use xlink:href=\"#DejaVuSans-30\" x=\"127.246094\"/>\n      </g>\n     </g>\n    </g>\n    <g id=\"xtick_5\">\n     <g id=\"line2d_5\">\n      <g>\n       <use xlink:href=\"#ma44184be8a\" x=\"256.022217\" y=\"224.64\" style=\"stroke: #000000; stroke-width: 0.8\"/>\n      </g>\n     </g>\n     <g id=\"text_5\">\n      <!-- 800 -->\n      <g transform=\"translate(246.478467 239.238437)scale(0.1 -0.1)\">\n       <defs>\n        <path id=\"DejaVuSans-38\" d=\"M 2034 2216 \nQ 1584 2216 1326 1975 \nQ 1069 1734 1069 1313 \nQ 1069 891 1326 650 \nQ 1584 409 2034 409 \nQ 2484 409 2743 651 \nQ 3003 894 3003 1313 \nQ 3003 1734 2745 1975 \nQ 2488 2216 2034 2216 \nz\nM 1403 2484 \nQ 997 2584 770 2862 \nQ 544 3141 544 3541 \nQ 544 4100 942 4425 \nQ 1341 4750 2034 4750 \nQ 2731 4750 3128 4425 \nQ 3525 4100 3525 3541 \nQ 3525 3141 3298 2862 \nQ 3072 2584 2669 2484 \nQ 3125 2378 3379 2068 \nQ 3634 1759 3634 1313 \nQ 3634 634 3220 271 \nQ 2806 -91 2034 -91 \nQ 1263 -91 848 271 \nQ 434 634 434 1313 \nQ 434 1759 690 2068 \nQ 947 2378 1403 2484 \nz\nM 1172 3481 \nQ 1172 3119 1398 2916 \nQ 1625 2713 2034 2713 \nQ 2441 2713 2670 2916 \nQ 2900 3119 2900 3481 \nQ 2900 3844 2670 4047 \nQ 2441 4250 2034 4250 \nQ 1625 4250 1398 4047 \nQ 1172 3844 1172 3481 \nz\n\" transform=\"scale(0.015625)\"/>\n       </defs>\n       <use xlink:href=\"#DejaVuSans-38\"/>\n       <use xlink:href=\"#DejaVuSans-30\" x=\"63.623047\"/>\n       <use xlink:href=\"#DejaVuSans-30\" x=\"127.246094\"/>\n      </g>\n     </g>\n    </g>\n    <g id=\"xtick_6\">\n     <g id=\"line2d_6\">\n      <g>\n       <use xlink:href=\"#ma44184be8a\" x=\"306.542107\" y=\"224.64\" style=\"stroke: #000000; stroke-width: 0.8\"/>\n      </g>\n     </g>\n     <g id=\"text_6\">\n      <!-- 1000 -->\n      <g transform=\"translate(293.817107 239.238437)scale(0.1 -0.1)\">\n       <defs>\n        <path id=\"DejaVuSans-31\" d=\"M 794 531 \nL 1825 531 \nL 1825 4091 \nL 703 3866 \nL 703 4441 \nL 1819 4666 \nL 2450 4666 \nL 2450 531 \nL 3481 531 \nL 3481 0 \nL 794 0 \nL 794 531 \nz\n\" transform=\"scale(0.015625)\"/>\n       </defs>\n       <use xlink:href=\"#DejaVuSans-31\"/>\n       <use xlink:href=\"#DejaVuSans-30\" x=\"63.623047\"/>\n       <use xlink:href=\"#DejaVuSans-30\" x=\"127.246094\"/>\n       <use xlink:href=\"#DejaVuSans-30\" x=\"190.869141\"/>\n      </g>\n     </g>\n    </g>\n    <g id=\"xtick_7\">\n     <g id=\"line2d_7\">\n      <g>\n       <use xlink:href=\"#ma44184be8a\" x=\"357.061997\" y=\"224.64\" style=\"stroke: #000000; stroke-width: 0.8\"/>\n      </g>\n     </g>\n     <g id=\"text_7\">\n      <!-- 1200 -->\n      <g transform=\"translate(344.336997 239.238437)scale(0.1 -0.1)\">\n       <use xlink:href=\"#DejaVuSans-31\"/>\n       <use xlink:href=\"#DejaVuSans-32\" x=\"63.623047\"/>\n       <use xlink:href=\"#DejaVuSans-30\" x=\"127.246094\"/>\n       <use xlink:href=\"#DejaVuSans-30\" x=\"190.869141\"/>\n      </g>\n     </g>\n    </g>\n   </g>\n   <g id=\"matplotlib.axis_2\">\n    <g id=\"ytick_1\">\n     <g id=\"line2d_8\">\n      <defs>\n       <path id=\"m69be385644\" d=\"M 0 0 \nL -3.5 0 \n\" style=\"stroke: #000000; stroke-width: 0.8\"/>\n      </defs>\n      <g>\n       <use xlink:href=\"#m69be385644\" x=\"39.65\" y=\"215.507366\" style=\"stroke: #000000; stroke-width: 0.8\"/>\n      </g>\n     </g>\n     <g id=\"text_8\">\n      <!-- 0 -->\n      <g transform=\"translate(26.2875 219.306584)scale(0.1 -0.1)\">\n       <use xlink:href=\"#DejaVuSans-30\"/>\n      </g>\n     </g>\n    </g>\n    <g id=\"ytick_2\">\n     <g id=\"line2d_9\">\n      <g>\n       <use xlink:href=\"#m69be385644\" x=\"39.65\" y=\"182.227755\" style=\"stroke: #000000; stroke-width: 0.8\"/>\n      </g>\n     </g>\n     <g id=\"text_9\">\n      <!-- 200 -->\n      <g transform=\"translate(13.5625 186.026973)scale(0.1 -0.1)\">\n       <use xlink:href=\"#DejaVuSans-32\"/>\n       <use xlink:href=\"#DejaVuSans-30\" x=\"63.623047\"/>\n       <use xlink:href=\"#DejaVuSans-30\" x=\"127.246094\"/>\n      </g>\n     </g>\n    </g>\n    <g id=\"ytick_3\">\n     <g id=\"line2d_10\">\n      <g>\n       <use xlink:href=\"#m69be385644\" x=\"39.65\" y=\"148.948144\" style=\"stroke: #000000; stroke-width: 0.8\"/>\n      </g>\n     </g>\n     <g id=\"text_10\">\n      <!-- 400 -->\n      <g transform=\"translate(13.5625 152.747362)scale(0.1 -0.1)\">\n       <use xlink:href=\"#DejaVuSans-34\"/>\n       <use xlink:href=\"#DejaVuSans-30\" x=\"63.623047\"/>\n       <use xlink:href=\"#DejaVuSans-30\" x=\"127.246094\"/>\n      </g>\n     </g>\n    </g>\n    <g id=\"ytick_4\">\n     <g id=\"line2d_11\">\n      <g>\n       <use xlink:href=\"#m69be385644\" x=\"39.65\" y=\"115.668533\" style=\"stroke: #000000; stroke-width: 0.8\"/>\n      </g>\n     </g>\n     <g id=\"text_11\">\n      <!-- 600 -->\n      <g transform=\"translate(13.5625 119.467751)scale(0.1 -0.1)\">\n       <use xlink:href=\"#DejaVuSans-36\"/>\n       <use xlink:href=\"#DejaVuSans-30\" x=\"63.623047\"/>\n       <use xlink:href=\"#DejaVuSans-30\" x=\"127.246094\"/>\n      </g>\n     </g>\n    </g>\n    <g id=\"ytick_5\">\n     <g id=\"line2d_12\">\n      <g>\n       <use xlink:href=\"#m69be385644\" x=\"39.65\" y=\"82.388922\" style=\"stroke: #000000; stroke-width: 0.8\"/>\n      </g>\n     </g>\n     <g id=\"text_12\">\n      <!-- 800 -->\n      <g transform=\"translate(13.5625 86.18814)scale(0.1 -0.1)\">\n       <use xlink:href=\"#DejaVuSans-38\"/>\n       <use xlink:href=\"#DejaVuSans-30\" x=\"63.623047\"/>\n       <use xlink:href=\"#DejaVuSans-30\" x=\"127.246094\"/>\n      </g>\n     </g>\n    </g>\n    <g id=\"ytick_6\">\n     <g id=\"line2d_13\">\n      <g>\n       <use xlink:href=\"#m69be385644\" x=\"39.65\" y=\"49.10931\" style=\"stroke: #000000; stroke-width: 0.8\"/>\n      </g>\n     </g>\n     <g id=\"text_13\">\n      <!-- 1000 -->\n      <g transform=\"translate(7.2 52.908529)scale(0.1 -0.1)\">\n       <use xlink:href=\"#DejaVuSans-31\"/>\n       <use xlink:href=\"#DejaVuSans-30\" x=\"63.623047\"/>\n       <use xlink:href=\"#DejaVuSans-30\" x=\"127.246094\"/>\n       <use xlink:href=\"#DejaVuSans-30\" x=\"190.869141\"/>\n      </g>\n     </g>\n    </g>\n    <g id=\"ytick_7\">\n     <g id=\"line2d_14\">\n      <g>\n       <use xlink:href=\"#m69be385644\" x=\"39.65\" y=\"15.829699\" style=\"stroke: #000000; stroke-width: 0.8\"/>\n      </g>\n     </g>\n     <g id=\"text_14\">\n      <!-- 1200 -->\n      <g transform=\"translate(7.2 19.628918)scale(0.1 -0.1)\">\n       <use xlink:href=\"#DejaVuSans-31\"/>\n       <use xlink:href=\"#DejaVuSans-32\" x=\"63.623047\"/>\n       <use xlink:href=\"#DejaVuSans-30\" x=\"127.246094\"/>\n       <use xlink:href=\"#DejaVuSans-30\" x=\"190.869141\"/>\n      </g>\n     </g>\n    </g>\n   </g>\n   <g id=\"patch_3\">\n    <path d=\"M 39.65 224.64 \nL 39.65 7.2 \n\" style=\"fill: none; stroke: #000000; stroke-width: 0.8; stroke-linejoin: miter; stroke-linecap: square\"/>\n   </g>\n   <g id=\"patch_4\">\n    <path d=\"M 374.45 224.64 \nL 374.45 7.2 \n\" style=\"fill: none; stroke: #000000; stroke-width: 0.8; stroke-linejoin: miter; stroke-linecap: square\"/>\n   </g>\n   <g id=\"patch_5\">\n    <path d=\"M 39.65 224.64 \nL 374.45 224.64 \n\" style=\"fill: none; stroke: #000000; stroke-width: 0.8; stroke-linejoin: miter; stroke-linecap: square\"/>\n   </g>\n   <g id=\"patch_6\">\n    <path d=\"M 39.65 7.2 \nL 374.45 7.2 \n\" style=\"fill: none; stroke: #000000; stroke-width: 0.8; stroke-linejoin: miter; stroke-linecap: square\"/>\n   </g>\n  </g>\n </g>\n <defs>\n  <clipPath id=\"pdf919f5aa9\">\n   <rect x=\"39.65\" y=\"7.2\" width=\"334.8\" height=\"217.44\"/>\n  </clipPath>\n </defs>\n</svg>\n",
      "text/plain": [
       "<Figure size 432x288 with 1 Axes>"
      ]
     },
     "metadata": {
      "needs_background": "light"
     },
     "output_type": "display_data"
    },
    {
     "data": {
      "application/javascript": "\n            setTimeout(function() {\n                var nbb_cell_id = 22;\n                var nbb_unformatted_code = \"plt.scatter(Y_test, Y_pred)\";\n                var nbb_formatted_code = \"plt.scatter(Y_test, Y_pred)\";\n                var nbb_cells = Jupyter.notebook.get_cells();\n                for (var i = 0; i < nbb_cells.length; ++i) {\n                    if (nbb_cells[i].input_prompt_number == nbb_cell_id) {\n                        if (nbb_cells[i].get_text() == nbb_unformatted_code) {\n                             nbb_cells[i].set_text(nbb_formatted_code);\n                        }\n                        break;\n                    }\n                }\n            }, 500);\n            ",
      "text/plain": [
       "<IPython.core.display.Javascript object>"
      ]
     },
     "metadata": {},
     "output_type": "display_data"
    }
   ],
   "source": [
    "plt.scatter(Y_test, Y_pred)"
   ]
  },
  {
   "cell_type": "code",
   "execution_count": 23,
   "metadata": {},
   "outputs": [
    {
     "data": {
      "application/javascript": "\n            setTimeout(function() {\n                var nbb_cell_id = 23;\n                var nbb_unformatted_code = \"Y_pred = pd.DataFrame(Y_pred, columns=[\\\"Pred\\\"], index=Y_test.index)\";\n                var nbb_formatted_code = \"Y_pred = pd.DataFrame(Y_pred, columns=[\\\"Pred\\\"], index=Y_test.index)\";\n                var nbb_cells = Jupyter.notebook.get_cells();\n                for (var i = 0; i < nbb_cells.length; ++i) {\n                    if (nbb_cells[i].input_prompt_number == nbb_cell_id) {\n                        if (nbb_cells[i].get_text() == nbb_unformatted_code) {\n                             nbb_cells[i].set_text(nbb_formatted_code);\n                        }\n                        break;\n                    }\n                }\n            }, 500);\n            ",
      "text/plain": [
       "<IPython.core.display.Javascript object>"
      ]
     },
     "metadata": {},
     "output_type": "display_data"
    }
   ],
   "source": [
    "Y_pred = pd.DataFrame(Y_pred, columns=[\"Pred\"], index=Y_test.index)"
   ]
  },
  {
   "cell_type": "code",
   "execution_count": 24,
   "metadata": {},
   "outputs": [
    {
     "data": {
      "image/png": "[encoded data removed]",
      "image/svg+xml": "<?xml version=\"1.0\" encoding=\"utf-8\" standalone=\"no\"?>\n<!DOCTYPE svg PUBLIC \"-//W3C//DTD SVG 1.1//EN\"\n  \"http://www.w3.org/Graphics/SVG/1.1/DTD/svg11.dtd\">\n<svg xmlns:xlink=\"http://www.w3.org/1999/xlink\" width=\"395.328125pt\" height=\"277.314375pt\" viewBox=\"0 0 395.328125 277.314375\" xmlns=\"http://www.w3.org/2000/svg\" version=\"1.1\">\n <metadata>\n  <rdf:RDF xmlns:dc=\"http://purl.org/dc/elements/1.1/\" xmlns:cc=\"http://creativecommons.org/ns#\" xmlns:rdf=\"http://www.w3.org/1999/02/22-rdf-syntax-ns#\">\n   <cc:Work>\n    <dc:type rdf:resource=\"http://purl.org/dc/dcmitype/StillImage\"/>\n    <dc:date>2022-02-03T13:28:56.356088</dc:date>\n    <dc:format>image/svg+xml</dc:format>\n    <dc:creator>\n     <cc:Agent>\n      <dc:title>Matplotlib v3.5.1, https://matplotlib.org/</dc:title>\n     </cc:Agent>\n    </dc:creator>\n   </cc:Work>\n  </rdf:RDF>\n </metadata>\n <defs>\n  <style type=\"text/css\">*{stroke-linejoin: round; stroke-linecap: butt}</style>\n </defs>\n <g id=\"figure_1\">\n  <g id=\"patch_1\">\n   <path d=\"M 0 277.314375 \nL 395.328125 277.314375 \nL 395.328125 0 \nL 0 0 \nL 0 277.314375 \nz\n\" style=\"fill: none\"/>\n  </g>\n  <g id=\"axes_1\">\n   <g id=\"patch_2\">\n    <path d=\"M 53.328125 239.758125 \nL 388.128125 239.758125 \nL 388.128125 22.318125 \nL 53.328125 22.318125 \nz\n\" style=\"fill: #ffffff\"/>\n   </g>\n   <g id=\"matplotlib.axis_1\">\n    <g id=\"xtick_1\">\n     <g id=\"line2d_1\">\n      <defs>\n       <path id=\"mb536fdb90f\" d=\"M 0 0 \nL 0 3.5 \n\" style=\"stroke: #000000; stroke-width: 0.8\"/>\n      </defs>\n      <g>\n       <use xlink:href=\"#mb536fdb90f\" x=\"53.886923\" y=\"239.758125\" style=\"stroke: #000000; stroke-width: 0.8\"/>\n      </g>\n     </g>\n     <g id=\"text_1\">\n      <!-- 2010 -->\n      <g transform=\"translate(41.161923 254.356562)scale(0.1 -0.1)\">\n       <defs>\n        <path id=\"DejaVuSans-32\" d=\"M 1228 531 \nL 3431 531 \nL 3431 0 \nL 469 0 \nL 469 531 \nQ 828 903 1448 1529 \nQ 2069 2156 2228 2338 \nQ 2531 2678 2651 2914 \nQ 2772 3150 2772 3378 \nQ 2772 3750 2511 3984 \nQ 2250 4219 1831 4219 \nQ 1534 4219 1204 4116 \nQ 875 4013 500 3803 \nL 500 4441 \nQ 881 4594 1212 4672 \nQ 1544 4750 1819 4750 \nQ 2544 4750 2975 4387 \nQ 3406 4025 3406 3419 \nQ 3406 3131 3298 2873 \nQ 3191 2616 2906 2266 \nQ 2828 2175 2409 1742 \nQ 1991 1309 1228 531 \nz\n\" transform=\"scale(0.015625)\"/>\n        <path id=\"DejaVuSans-30\" d=\"M 2034 4250 \nQ 1547 4250 1301 3770 \nQ 1056 3291 1056 2328 \nQ 1056 1369 1301 889 \nQ 1547 409 2034 409 \nQ 2525 409 2770 889 \nQ 3016 1369 3016 2328 \nQ 3016 3291 2770 3770 \nQ 2525 4250 2034 4250 \nz\nM 2034 4750 \nQ 2819 4750 3233 4129 \nQ 3647 3509 3647 2328 \nQ 3647 1150 3233 529 \nQ 2819 -91 2034 -91 \nQ 1250 -91 836 529 \nQ 422 1150 422 2328 \nQ 422 3509 836 4129 \nQ 1250 4750 2034 4750 \nz\n\" transform=\"scale(0.015625)\"/>\n        <path id=\"DejaVuSans-31\" d=\"M 794 531 \nL 1825 531 \nL 1825 4091 \nL 703 3866 \nL 703 4441 \nL 1819 4666 \nL 2450 4666 \nL 2450 531 \nL 3481 531 \nL 3481 0 \nL 794 0 \nL 794 531 \nz\n\" transform=\"scale(0.015625)\"/>\n       </defs>\n       <use xlink:href=\"#DejaVuSans-32\"/>\n       <use xlink:href=\"#DejaVuSans-30\" x=\"63.623047\"/>\n       <use xlink:href=\"#DejaVuSans-31\" x=\"127.246094\"/>\n       <use xlink:href=\"#DejaVuSans-30\" x=\"190.869141\"/>\n      </g>\n     </g>\n    </g>\n    <g id=\"xtick_2\">\n     <g id=\"line2d_2\">\n      <g>\n       <use xlink:href=\"#mb536fdb90f\" x=\"106.863903\" y=\"239.758125\" style=\"stroke: #000000; stroke-width: 0.8\"/>\n      </g>\n     </g>\n     <g id=\"text_2\">\n      <!-- 2012 -->\n      <g transform=\"translate(94.138903 254.356562)scale(0.1 -0.1)\">\n       <use xlink:href=\"#DejaVuSans-32\"/>\n       <use xlink:href=\"#DejaVuSans-30\" x=\"63.623047\"/>\n       <use xlink:href=\"#DejaVuSans-31\" x=\"127.246094\"/>\n       <use xlink:href=\"#DejaVuSans-32\" x=\"190.869141\"/>\n      </g>\n     </g>\n    </g>\n    <g id=\"xtick_3\">\n     <g id=\"line2d_3\">\n      <g>\n       <use xlink:href=\"#mb536fdb90f\" x=\"159.913455\" y=\"239.758125\" style=\"stroke: #000000; stroke-width: 0.8\"/>\n      </g>\n     </g>\n     <g id=\"text_3\">\n      <!-- 2014 -->\n      <g transform=\"translate(147.188455 254.356562)scale(0.1 -0.1)\">\n       <defs>\n        <path id=\"DejaVuSans-34\" d=\"M 2419 4116 \nL 825 1625 \nL 2419 1625 \nL 2419 4116 \nz\nM 2253 4666 \nL 3047 4666 \nL 3047 1625 \nL 3713 1625 \nL 3713 1100 \nL 3047 1100 \nL 3047 0 \nL 2419 0 \nL 2419 1100 \nL 313 1100 \nL 313 1709 \nL 2253 4666 \nz\n\" transform=\"scale(0.015625)\"/>\n       </defs>\n       <use xlink:href=\"#DejaVuSans-32\"/>\n       <use xlink:href=\"#DejaVuSans-30\" x=\"63.623047\"/>\n       <use xlink:href=\"#DejaVuSans-31\" x=\"127.246094\"/>\n       <use xlink:href=\"#DejaVuSans-34\" x=\"190.869141\"/>\n      </g>\n     </g>\n    </g>\n    <g id=\"xtick_4\">\n     <g id=\"line2d_4\">\n      <g>\n       <use xlink:href=\"#mb536fdb90f\" x=\"212.890435\" y=\"239.758125\" style=\"stroke: #000000; stroke-width: 0.8\"/>\n      </g>\n     </g>\n     <g id=\"text_4\">\n      <!-- 2016 -->\n      <g transform=\"translate(200.165435 254.356562)scale(0.1 -0.1)\">\n       <defs>\n        <path id=\"DejaVuSans-36\" d=\"M 2113 2584 \nQ 1688 2584 1439 2293 \nQ 1191 2003 1191 1497 \nQ 1191 994 1439 701 \nQ 1688 409 2113 409 \nQ 2538 409 2786 701 \nQ 3034 994 3034 1497 \nQ 3034 2003 2786 2293 \nQ 2538 2584 2113 2584 \nz\nM 3366 4563 \nL 3366 3988 \nQ 3128 4100 2886 4159 \nQ 2644 4219 2406 4219 \nQ 1781 4219 1451 3797 \nQ 1122 3375 1075 2522 \nQ 1259 2794 1537 2939 \nQ 1816 3084 2150 3084 \nQ 2853 3084 3261 2657 \nQ 3669 2231 3669 1497 \nQ 3669 778 3244 343 \nQ 2819 -91 2113 -91 \nQ 1303 -91 875 529 \nQ 447 1150 447 2328 \nQ 447 3434 972 4092 \nQ 1497 4750 2381 4750 \nQ 2619 4750 2861 4703 \nQ 3103 4656 3366 4563 \nz\n\" transform=\"scale(0.015625)\"/>\n       </defs>\n       <use xlink:href=\"#DejaVuSans-32\"/>\n       <use xlink:href=\"#DejaVuSans-30\" x=\"63.623047\"/>\n       <use xlink:href=\"#DejaVuSans-31\" x=\"127.246094\"/>\n       <use xlink:href=\"#DejaVuSans-36\" x=\"190.869141\"/>\n      </g>\n     </g>\n    </g>\n    <g id=\"xtick_5\">\n     <g id=\"line2d_5\">\n      <g>\n       <use xlink:href=\"#mb536fdb90f\" x=\"265.939986\" y=\"239.758125\" style=\"stroke: #000000; stroke-width: 0.8\"/>\n      </g>\n     </g>\n     <g id=\"text_5\">\n      <!-- 2018 -->\n      <g transform=\"translate(253.214986 254.356562)scale(0.1 -0.1)\">\n       <defs>\n        <path id=\"DejaVuSans-38\" d=\"M 2034 2216 \nQ 1584 2216 1326 1975 \nQ 1069 1734 1069 1313 \nQ 1069 891 1326 650 \nQ 1584 409 2034 409 \nQ 2484 409 2743 651 \nQ 3003 894 3003 1313 \nQ 3003 1734 2745 1975 \nQ 2488 2216 2034 2216 \nz\nM 1403 2484 \nQ 997 2584 770 2862 \nQ 544 3141 544 3541 \nQ 544 4100 942 4425 \nQ 1341 4750 2034 4750 \nQ 2731 4750 3128 4425 \nQ 3525 4100 3525 3541 \nQ 3525 3141 3298 2862 \nQ 3072 2584 2669 2484 \nQ 3125 2378 3379 2068 \nQ 3634 1759 3634 1313 \nQ 3634 634 3220 271 \nQ 2806 -91 2034 -91 \nQ 1263 -91 848 271 \nQ 434 634 434 1313 \nQ 434 1759 690 2068 \nQ 947 2378 1403 2484 \nz\nM 1172 3481 \nQ 1172 3119 1398 2916 \nQ 1625 2713 2034 2713 \nQ 2441 2713 2670 2916 \nQ 2900 3119 2900 3481 \nQ 2900 3844 2670 4047 \nQ 2441 4250 2034 4250 \nQ 1625 4250 1398 4047 \nQ 1172 3844 1172 3481 \nz\n\" transform=\"scale(0.015625)\"/>\n       </defs>\n       <use xlink:href=\"#DejaVuSans-32\"/>\n       <use xlink:href=\"#DejaVuSans-30\" x=\"63.623047\"/>\n       <use xlink:href=\"#DejaVuSans-31\" x=\"127.246094\"/>\n       <use xlink:href=\"#DejaVuSans-38\" x=\"190.869141\"/>\n      </g>\n     </g>\n    </g>\n    <g id=\"xtick_6\">\n     <g id=\"line2d_6\">\n      <g>\n       <use xlink:href=\"#mb536fdb90f\" x=\"318.916966\" y=\"239.758125\" style=\"stroke: #000000; stroke-width: 0.8\"/>\n      </g>\n     </g>\n     <g id=\"text_6\">\n      <!-- 2020 -->\n      <g transform=\"translate(306.191966 254.356562)scale(0.1 -0.1)\">\n       <use xlink:href=\"#DejaVuSans-32\"/>\n       <use xlink:href=\"#DejaVuSans-30\" x=\"63.623047\"/>\n       <use xlink:href=\"#DejaVuSans-32\" x=\"127.246094\"/>\n       <use xlink:href=\"#DejaVuSans-30\" x=\"190.869141\"/>\n      </g>\n     </g>\n    </g>\n    <g id=\"xtick_7\">\n     <g id=\"line2d_7\">\n      <g>\n       <use xlink:href=\"#mb536fdb90f\" x=\"371.966518\" y=\"239.758125\" style=\"stroke: #000000; stroke-width: 0.8\"/>\n      </g>\n     </g>\n     <g id=\"text_7\">\n      <!-- 2022 -->\n      <g transform=\"translate(359.241518 254.356562)scale(0.1 -0.1)\">\n       <use xlink:href=\"#DejaVuSans-32\"/>\n       <use xlink:href=\"#DejaVuSans-30\" x=\"63.623047\"/>\n       <use xlink:href=\"#DejaVuSans-32\" x=\"127.246094\"/>\n       <use xlink:href=\"#DejaVuSans-32\" x=\"190.869141\"/>\n      </g>\n     </g>\n    </g>\n    <g id=\"text_8\">\n     <!-- Time Scale -->\n     <g transform=\"translate(193.452344 268.034687)scale(0.1 -0.1)\">\n      <defs>\n       <path id=\"DejaVuSans-54\" d=\"M -19 4666 \nL 3928 4666 \nL 3928 4134 \nL 2272 4134 \nL 2272 0 \nL 1638 0 \nL 1638 4134 \nL -19 4134 \nL -19 4666 \nz\n\" transform=\"scale(0.015625)\"/>\n       <path id=\"DejaVuSans-69\" d=\"M 603 3500 \nL 1178 3500 \nL 1178 0 \nL 603 0 \nL 603 3500 \nz\nM 603 4863 \nL 1178 4863 \nL 1178 4134 \nL 603 4134 \nL 603 4863 \nz\n\" transform=\"scale(0.015625)\"/>\n       <path id=\"DejaVuSans-6d\" d=\"M 3328 2828 \nQ 3544 3216 3844 3400 \nQ 4144 3584 4550 3584 \nQ 5097 3584 5394 3201 \nQ 5691 2819 5691 2113 \nL 5691 0 \nL 5113 0 \nL 5113 2094 \nQ 5113 2597 4934 2840 \nQ 4756 3084 4391 3084 \nQ 3944 3084 3684 2787 \nQ 3425 2491 3425 1978 \nL 3425 0 \nL 2847 0 \nL 2847 2094 \nQ 2847 2600 2669 2842 \nQ 2491 3084 2119 3084 \nQ 1678 3084 1418 2786 \nQ 1159 2488 1159 1978 \nL 1159 0 \nL 581 0 \nL 581 3500 \nL 1159 3500 \nL 1159 2956 \nQ 1356 3278 1631 3431 \nQ 1906 3584 2284 3584 \nQ 2666 3584 2933 3390 \nQ 3200 3197 3328 2828 \nz\n\" transform=\"scale(0.015625)\"/>\n       <path id=\"DejaVuSans-65\" d=\"M 3597 1894 \nL 3597 1613 \nL 953 1613 \nQ 991 1019 1311 708 \nQ 1631 397 2203 397 \nQ 2534 397 2845 478 \nQ 3156 559 3463 722 \nL 3463 178 \nQ 3153 47 2828 -22 \nQ 2503 -91 2169 -91 \nQ 1331 -91 842 396 \nQ 353 884 353 1716 \nQ 353 2575 817 3079 \nQ 1281 3584 2069 3584 \nQ 2775 3584 3186 3129 \nQ 3597 2675 3597 1894 \nz\nM 3022 2063 \nQ 3016 2534 2758 2815 \nQ 2500 3097 2075 3097 \nQ 1594 3097 1305 2825 \nQ 1016 2553 972 2059 \nL 3022 2063 \nz\n\" transform=\"scale(0.015625)\"/>\n       <path id=\"DejaVuSans-20\" transform=\"scale(0.015625)\"/>\n       <path id=\"DejaVuSans-53\" d=\"M 3425 4513 \nL 3425 3897 \nQ 3066 4069 2747 4153 \nQ 2428 4238 2131 4238 \nQ 1616 4238 1336 4038 \nQ 1056 3838 1056 3469 \nQ 1056 3159 1242 3001 \nQ 1428 2844 1947 2747 \nL 2328 2669 \nQ 3034 2534 3370 2195 \nQ 3706 1856 3706 1288 \nQ 3706 609 3251 259 \nQ 2797 -91 1919 -91 \nQ 1588 -91 1214 -16 \nQ 841 59 441 206 \nL 441 856 \nQ 825 641 1194 531 \nQ 1563 422 1919 422 \nQ 2459 422 2753 634 \nQ 3047 847 3047 1241 \nQ 3047 1584 2836 1778 \nQ 2625 1972 2144 2069 \nL 1759 2144 \nQ 1053 2284 737 2584 \nQ 422 2884 422 3419 \nQ 422 4038 858 4394 \nQ 1294 4750 2059 4750 \nQ 2388 4750 2728 4690 \nQ 3069 4631 3425 4513 \nz\n\" transform=\"scale(0.015625)\"/>\n       <path id=\"DejaVuSans-63\" d=\"M 3122 3366 \nL 3122 2828 \nQ 2878 2963 2633 3030 \nQ 2388 3097 2138 3097 \nQ 1578 3097 1268 2742 \nQ 959 2388 959 1747 \nQ 959 1106 1268 751 \nQ 1578 397 2138 397 \nQ 2388 397 2633 464 \nQ 2878 531 3122 666 \nL 3122 134 \nQ 2881 22 2623 -34 \nQ 2366 -91 2075 -91 \nQ 1284 -91 818 406 \nQ 353 903 353 1747 \nQ 353 2603 823 3093 \nQ 1294 3584 2113 3584 \nQ 2378 3584 2631 3529 \nQ 2884 3475 3122 3366 \nz\n\" transform=\"scale(0.015625)\"/>\n       <path id=\"DejaVuSans-61\" d=\"M 2194 1759 \nQ 1497 1759 1228 1600 \nQ 959 1441 959 1056 \nQ 959 750 1161 570 \nQ 1363 391 1709 391 \nQ 2188 391 2477 730 \nQ 2766 1069 2766 1631 \nL 2766 1759 \nL 2194 1759 \nz\nM 3341 1997 \nL 3341 0 \nL 2766 0 \nL 2766 531 \nQ 2569 213 2275 61 \nQ 1981 -91 1556 -91 \nQ 1019 -91 701 211 \nQ 384 513 384 1019 \nQ 384 1609 779 1909 \nQ 1175 2209 1959 2209 \nL 2766 2209 \nL 2766 2266 \nQ 2766 2663 2505 2880 \nQ 2244 3097 1772 3097 \nQ 1472 3097 1187 3025 \nQ 903 2953 641 2809 \nL 641 3341 \nQ 956 3463 1253 3523 \nQ 1550 3584 1831 3584 \nQ 2591 3584 2966 3190 \nQ 3341 2797 3341 1997 \nz\n\" transform=\"scale(0.015625)\"/>\n       <path id=\"DejaVuSans-6c\" d=\"M 603 4863 \nL 1178 4863 \nL 1178 0 \nL 603 0 \nL 603 4863 \nz\n\" transform=\"scale(0.015625)\"/>\n      </defs>\n      <use xlink:href=\"#DejaVuSans-54\"/>\n      <use xlink:href=\"#DejaVuSans-69\" x=\"57.958984\"/>\n      <use xlink:href=\"#DejaVuSans-6d\" x=\"85.742188\"/>\n      <use xlink:href=\"#DejaVuSans-65\" x=\"183.154297\"/>\n      <use xlink:href=\"#DejaVuSans-20\" x=\"244.677734\"/>\n      <use xlink:href=\"#DejaVuSans-53\" x=\"276.464844\"/>\n      <use xlink:href=\"#DejaVuSans-63\" x=\"339.941406\"/>\n      <use xlink:href=\"#DejaVuSans-61\" x=\"394.921875\"/>\n      <use xlink:href=\"#DejaVuSans-6c\" x=\"456.201172\"/>\n      <use xlink:href=\"#DejaVuSans-65\" x=\"483.984375\"/>\n     </g>\n    </g>\n   </g>\n   <g id=\"matplotlib.axis_2\">\n    <g id=\"ytick_1\">\n     <g id=\"line2d_8\">\n      <defs>\n       <path id=\"m2c4a434438\" d=\"M 0 0 \nL -3.5 0 \n\" style=\"stroke: #000000; stroke-width: 0.8\"/>\n      </defs>\n      <g>\n       <use xlink:href=\"#m2c4a434438\" x=\"53.328125\" y=\"230.475582\" style=\"stroke: #000000; stroke-width: 0.8\"/>\n      </g>\n     </g>\n     <g id=\"text_9\">\n      <!-- 0 -->\n      <g transform=\"translate(39.965625 234.274801)scale(0.1 -0.1)\">\n       <use xlink:href=\"#DejaVuSans-30\"/>\n      </g>\n     </g>\n    </g>\n    <g id=\"ytick_2\">\n     <g id=\"line2d_9\">\n      <g>\n       <use xlink:href=\"#m2c4a434438\" x=\"53.328125\" y=\"197.664815\" style=\"stroke: #000000; stroke-width: 0.8\"/>\n      </g>\n     </g>\n     <g id=\"text_10\">\n      <!-- 200 -->\n      <g transform=\"translate(27.240625 201.464033)scale(0.1 -0.1)\">\n       <use xlink:href=\"#DejaVuSans-32\"/>\n       <use xlink:href=\"#DejaVuSans-30\" x=\"63.623047\"/>\n       <use xlink:href=\"#DejaVuSans-30\" x=\"127.246094\"/>\n      </g>\n     </g>\n    </g>\n    <g id=\"ytick_3\">\n     <g id=\"line2d_10\">\n      <g>\n       <use xlink:href=\"#m2c4a434438\" x=\"53.328125\" y=\"164.854047\" style=\"stroke: #000000; stroke-width: 0.8\"/>\n      </g>\n     </g>\n     <g id=\"text_11\">\n      <!-- 400 -->\n      <g transform=\"translate(27.240625 168.653266)scale(0.1 -0.1)\">\n       <use xlink:href=\"#DejaVuSans-34\"/>\n       <use xlink:href=\"#DejaVuSans-30\" x=\"63.623047\"/>\n       <use xlink:href=\"#DejaVuSans-30\" x=\"127.246094\"/>\n      </g>\n     </g>\n    </g>\n    <g id=\"ytick_4\">\n     <g id=\"line2d_11\">\n      <g>\n       <use xlink:href=\"#m2c4a434438\" x=\"53.328125\" y=\"132.04328\" style=\"stroke: #000000; stroke-width: 0.8\"/>\n      </g>\n     </g>\n     <g id=\"text_12\">\n      <!-- 600 -->\n      <g transform=\"translate(27.240625 135.842499)scale(0.1 -0.1)\">\n       <use xlink:href=\"#DejaVuSans-36\"/>\n       <use xlink:href=\"#DejaVuSans-30\" x=\"63.623047\"/>\n       <use xlink:href=\"#DejaVuSans-30\" x=\"127.246094\"/>\n      </g>\n     </g>\n    </g>\n    <g id=\"ytick_5\">\n     <g id=\"line2d_12\">\n      <g>\n       <use xlink:href=\"#m2c4a434438\" x=\"53.328125\" y=\"99.232513\" style=\"stroke: #000000; stroke-width: 0.8\"/>\n      </g>\n     </g>\n     <g id=\"text_13\">\n      <!-- 800 -->\n      <g transform=\"translate(27.240625 103.031732)scale(0.1 -0.1)\">\n       <use xlink:href=\"#DejaVuSans-38\"/>\n       <use xlink:href=\"#DejaVuSans-30\" x=\"63.623047\"/>\n       <use xlink:href=\"#DejaVuSans-30\" x=\"127.246094\"/>\n      </g>\n     </g>\n    </g>\n    <g id=\"ytick_6\">\n     <g id=\"line2d_13\">\n      <g>\n       <use xlink:href=\"#m2c4a434438\" x=\"53.328125\" y=\"66.421746\" style=\"stroke: #000000; stroke-width: 0.8\"/>\n      </g>\n     </g>\n     <g id=\"text_14\">\n      <!-- 1000 -->\n      <g transform=\"translate(20.878125 70.220964)scale(0.1 -0.1)\">\n       <use xlink:href=\"#DejaVuSans-31\"/>\n       <use xlink:href=\"#DejaVuSans-30\" x=\"63.623047\"/>\n       <use xlink:href=\"#DejaVuSans-30\" x=\"127.246094\"/>\n       <use xlink:href=\"#DejaVuSans-30\" x=\"190.869141\"/>\n      </g>\n     </g>\n    </g>\n    <g id=\"ytick_7\">\n     <g id=\"line2d_14\">\n      <g>\n       <use xlink:href=\"#m2c4a434438\" x=\"53.328125\" y=\"33.610978\" style=\"stroke: #000000; stroke-width: 0.8\"/>\n      </g>\n     </g>\n     <g id=\"text_15\">\n      <!-- 1200 -->\n      <g transform=\"translate(20.878125 37.410197)scale(0.1 -0.1)\">\n       <use xlink:href=\"#DejaVuSans-31\"/>\n       <use xlink:href=\"#DejaVuSans-32\" x=\"63.623047\"/>\n       <use xlink:href=\"#DejaVuSans-30\" x=\"127.246094\"/>\n       <use xlink:href=\"#DejaVuSans-30\" x=\"190.869141\"/>\n      </g>\n     </g>\n    </g>\n    <g id=\"text_16\">\n     <!-- Scaled USD -->\n     <g transform=\"translate(14.798438 159.938125)rotate(-90)scale(0.1 -0.1)\">\n      <defs>\n       <path id=\"DejaVuSans-64\" d=\"M 2906 2969 \nL 2906 4863 \nL 3481 4863 \nL 3481 0 \nL 2906 0 \nL 2906 525 \nQ 2725 213 2448 61 \nQ 2172 -91 1784 -91 \nQ 1150 -91 751 415 \nQ 353 922 353 1747 \nQ 353 2572 751 3078 \nQ 1150 3584 1784 3584 \nQ 2172 3584 2448 3432 \nQ 2725 3281 2906 2969 \nz\nM 947 1747 \nQ 947 1113 1208 752 \nQ 1469 391 1925 391 \nQ 2381 391 2643 752 \nQ 2906 1113 2906 1747 \nQ 2906 2381 2643 2742 \nQ 2381 3103 1925 3103 \nQ 1469 3103 1208 2742 \nQ 947 2381 947 1747 \nz\n\" transform=\"scale(0.015625)\"/>\n       <path id=\"DejaVuSans-55\" d=\"M 556 4666 \nL 1191 4666 \nL 1191 1831 \nQ 1191 1081 1462 751 \nQ 1734 422 2344 422 \nQ 2950 422 3222 751 \nQ 3494 1081 3494 1831 \nL 3494 4666 \nL 4128 4666 \nL 4128 1753 \nQ 4128 841 3676 375 \nQ 3225 -91 2344 -91 \nQ 1459 -91 1007 375 \nQ 556 841 556 1753 \nL 556 4666 \nz\n\" transform=\"scale(0.015625)\"/>\n       <path id=\"DejaVuSans-44\" d=\"M 1259 4147 \nL 1259 519 \nL 2022 519 \nQ 2988 519 3436 956 \nQ 3884 1394 3884 2338 \nQ 3884 3275 3436 3711 \nQ 2988 4147 2022 4147 \nL 1259 4147 \nz\nM 628 4666 \nL 1925 4666 \nQ 3281 4666 3915 4102 \nQ 4550 3538 4550 2338 \nQ 4550 1131 3912 565 \nQ 3275 0 1925 0 \nL 628 0 \nL 628 4666 \nz\n\" transform=\"scale(0.015625)\"/>\n      </defs>\n      <use xlink:href=\"#DejaVuSans-53\"/>\n      <use xlink:href=\"#DejaVuSans-63\" x=\"63.476562\"/>\n      <use xlink:href=\"#DejaVuSans-61\" x=\"118.457031\"/>\n      <use xlink:href=\"#DejaVuSans-6c\" x=\"179.736328\"/>\n      <use xlink:href=\"#DejaVuSans-65\" x=\"207.519531\"/>\n      <use xlink:href=\"#DejaVuSans-64\" x=\"269.042969\"/>\n      <use xlink:href=\"#DejaVuSans-20\" x=\"332.519531\"/>\n      <use xlink:href=\"#DejaVuSans-55\" x=\"364.306641\"/>\n      <use xlink:href=\"#DejaVuSans-53\" x=\"437.5\"/>\n      <use xlink:href=\"#DejaVuSans-44\" x=\"500.976562\"/>\n     </g>\n    </g>\n   </g>\n   <g id=\"line2d_15\">\n    <path d=\"M 68.546307 229.786556 \nL 70.142873 229.874489 \nL 74.206861 229.805258 \nL 76.746853 229.496509 \nL 79.722272 229.488306 \nL 82.842834 229.705841 \nL 83.20569 229.714044 \nL 85.092542 229.657281 \nL 86.689108 229.690748 \nL 87.342249 229.581817 \nL 88.213104 229.650063 \nL 88.938816 229.570005 \nL 91.841664 229.585754 \nL 93.873658 229.525382 \nL 98.881071 229.685499 \nL 105.049623 229.353782 \nL 105.48505 229.509305 \nL 106.64619 229.532929 \nL 107.734758 229.727825 \nL 110.565035 229.34361 \nL 114.193595 229.389874 \nL 118.838152 229.511273 \nL 119.636436 229.389217 \nL 123.264996 229.510289 \nL 123.410138 229.481416 \nL 125.369561 229.547693 \nL 128.562694 229.577223 \nL 131.030115 229.370187 \nL 135.964957 229.224507 \nL 136.037528 229.190384 \nL 137.924379 229.308175 \nL 138.57752 229.196618 \nL 139.15809 229.294066 \nL 140.536943 229.146746 \nL 142.496365 228.523341 \nL 142.641508 228.645069 \nL 143.004364 227.594797 \nL 145.326642 227.184662 \nL 148.156919 226.448388 \nL 152.293478 225.021776 \nL 152.438621 224.458415 \nL 152.656334 224.533224 \nL 152.801477 224.397715 \nL 153.817473 224.93778 \nL 154.906042 224.794397 \nL 156.430037 225.96082 \nL 158.752315 225.621557 \nL 160.784309 225.90373 \nL 161.43745 224.616891 \nL 165.356295 222.798518 \nL 167.896287 223.769717 \nL 168.912284 223.368442 \nL 171.66999 223.797935 \nL 173.048843 222.610185 \nL 176.604832 222.051089 \nL 180.160821 221.958891 \nL 182.192815 222.636105 \nL 183.789381 222.324075 \nL 185.313377 223.72247 \nL 186.982514 223.694909 \nL 189.377364 223.49345 \nL 190.248219 223.672598 \nL 192.570497 224.40559 \nL 193.36878 223.806793 \nL 194.094493 223.690643 \nL 196.126486 222.31095 \nL 196.3442 222.313904 \nL 199.174477 221.712154 \nL 201.424184 222.17413 \nL 202.222468 222.518643 \nL 203.020751 221.921158 \nL 203.60132 223.098409 \nL 204.617317 222.308654 \nL 205.488172 221.806977 \nL 205.705885 221.842413 \nL 207.15731 223.359583 \nL 207.81045 223.615178 \nL 210.2053 222.940917 \nL 213.253291 223.288712 \nL 213.398433 223.55251 \nL 213.616147 223.655864 \nL 214.41443 223.829761 \nL 217.462421 223.879305 \nL 219.929842 222.036653 \nL 222.469834 223.674566 \nL 223.41326 223.270994 \nL 223.993829 223.291336 \nL 224.501828 222.950104 \nL 225.372682 223.270009 \nL 228.928671 222.959291 \nL 230.525238 223.519371 \nL 231.033236 223.857322 \nL 233.6458 223.905554 \nL 236.258363 224.404933 \nL 236.984075 224.040734 \nL 237.056646 224.255645 \nL 240.685207 222.654807 \nL 241.120634 222.121632 \nL 242.064059 222.01795 \nL 245.765191 221.374531 \nL 248.958324 219.818317 \nL 249.466322 220.277011 \nL 249.90175 220.080146 \nL 250.917747 218.335598 \nL 251.788601 218.262102 \nL 252.006315 217.894293 \nL 253.240025 220.105739 \nL 253.312596 219.739243 \nL 257.449155 219.171289 \nL 258.102296 218.013725 \nL 258.97315 219.288095 \nL 259.916576 218.808402 \nL 260.932573 219.407197 \nL 261.658285 220.432534 \nL 264.198277 220.135925 \nL 264.923989 219.356997 \nL 269.060548 219.856049 \nL 270.076545 218.959331 \nL 270.802257 219.740883 \nL 271.01997 219.139134 \nL 271.237684 219.792396 \nL 271.673111 220.08999 \nL 273.124535 220.478141 \nL 273.850248 220.952585 \nL 276.898238 220.900744 \nL 277.62395 219.579126 \nL 277.841664 218.738514 \nL 279.365659 220.331805 \nL 279.946229 220.013213 \nL 282.41365 219.469211 \nL 283.937645 221.257397 \nL 284.953642 220.687146 \nL 285.389069 220.318025 \nL 287.783919 219.488896 \nL 288.43706 219.052185 \nL 289.598199 219.78485 \nL 292.06562 220.103114 \nL 292.573619 220.62054 \nL 292.936475 219.472491 \nL 293.517044 219.121416 \nL 294.025043 221.039533 \nL 296.492464 220.702567 \nL 296.637606 219.980073 \nL 297.073033 221.411935 \nL 299.105027 220.901072 \nL 299.250169 221.453933 \nL 301.645019 222.442194 \nL 302.588445 223.74675 \nL 304.69301 223.04624 \nL 304.765581 223.269681 \nL 305.563864 223.02196 \nL 311.659846 222.560641 \nL 311.732417 223.151891 \nL 313.256412 222.014013 \nL 314.92555 219.466257 \nL 315.50612 218.920614 \nL 316.957544 219.635889 \nL 317.3204 219.029874 \nL 318.481539 216.336109 \nL 320.586104 211.943405 \nL 321.456958 206.369511 \nL 322.835811 203.118293 \nL 323.634095 207.393863 \nL 325.085519 213.146246 \nL 325.666088 214.726086 \nL 326.609514 206.024669 \nL 328.568937 204.523577 \nL 330.092932 201.504988 \nL 332.705495 184.728187 \nL 333.068351 180.708213 \nL 335.027774 183.931214 \nL 336.188913 159.828422 \nL 337.640337 156.690727 \nL 338.801477 156.953214 \nL 339.091761 160.641146 \nL 339.236904 160.703487 \nL 339.744902 154.797549 \nL 341.922038 163.45959 \nL 342.430037 150.153186 \nL 342.792893 136.30868 \nL 344.462031 116.458166 \nL 344.679744 123.863558 \nL 345.768312 109.877969 \nL 347.510021 100.293936 \nL 347.800306 87.291038 \nL 349.034017 102.300322 \nL 349.396873 108.744351 \nL 354.839713 127.27916 \nL 356.653993 132.199133 \nL 357.524848 131.244339 \nL 360.137411 123.961986 \nL 360.645409 119.35372 \nL 363.983685 108.583581 \nL 366.160821 97.414793 \nL 367.249389 53.783032 \nL 367.539674 32.201761 \nL 367.612245 38.204486 \nL 369.063669 40.686621 \nL 370.805378 78.410803 \nL 372.329374 55.80747 \nL 372.909943 58.283037 \nL 372.909943 58.283037 \n\" clip-path=\"url(#p2cc1d134c3)\" style=\"fill: none; stroke: #1f77b4; stroke-width: 1.5; stroke-linecap: square\"/>\n   </g>\n   <g id=\"line2d_16\">\n    <path d=\"M 68.546307 229.686571 \nL 70.142873 229.73516 \nL 74.206861 229.703381 \nL 76.746853 229.50782 \nL 79.722272 229.48868 \nL 82.842834 229.649967 \nL 83.20569 229.606108 \nL 96.486221 229.622541 \nL 98.881071 229.648264 \nL 105.48505 229.521249 \nL 107.081617 229.564651 \nL 107.734758 229.50589 \nL 122.176428 229.524426 \nL 122.684426 229.549995 \nL 122.756997 229.506128 \nL 128.562694 229.579982 \nL 131.030115 229.450843 \nL 139.666088 229.349403 \nL 142.496365 228.803239 \nL 142.568937 228.682953 \nL 142.641508 228.786318 \nL 143.004364 227.79937 \nL 145.326642 227.244771 \nL 148.156919 226.407163 \nL 152.293478 224.995727 \nL 152.438621 224.606839 \nL 152.801477 224.499962 \nL 153.817473 225.022301 \nL 154.906042 225.004706 \nL 156.430037 225.993878 \nL 158.752315 225.568714 \nL 160.784309 225.73784 \nL 161.43745 224.663591 \nL 165.356295 222.866151 \nL 167.896287 223.95859 \nL 168.912284 223.551183 \nL 171.452276 223.695785 \nL 171.66999 223.765595 \nL 173.048843 222.627203 \nL 176.604832 222.156016 \nL 180.160821 222.059738 \nL 182.192815 222.676548 \nL 183.789381 222.393867 \nL 185.313377 224.011494 \nL 186.982514 223.703221 \nL 190.248219 223.588783 \nL 192.570497 224.43177 \nL 193.36878 223.842803 \nL 194.094493 223.754068 \nL 196.3442 222.404156 \nL 199.174477 221.754628 \nL 201.424184 222.07856 \nL 202.222468 222.629419 \nL 203.020751 222.109259 \nL 203.60132 223.240408 \nL 204.617317 222.290286 \nL 205.488172 221.902649 \nL 205.705885 222.014503 \nL 207.15731 223.345671 \nL 207.81045 223.564841 \nL 210.2053 223.145188 \nL 213.398433 223.434815 \nL 213.616147 223.645485 \nL 214.41443 223.843359 \nL 217.462421 223.950014 \nL 219.929842 221.95999 \nL 222.469834 223.677883 \nL 223.41326 223.334907 \nL 223.993829 223.328901 \nL 224.501828 222.940606 \nL 225.372682 223.289496 \nL 229.43667 223.120269 \nL 231.033236 223.810184 \nL 233.6458 223.939957 \nL 235.605222 224.362761 \nL 236.258363 224.282508 \nL 236.984075 224.039154 \nL 237.056646 224.142649 \nL 240.685207 222.742218 \nL 241.120634 222.280091 \nL 242.064059 222.209761 \nL 245.765191 221.425062 \nL 248.232612 219.950694 \nL 248.958324 219.880107 \nL 249.466322 220.237489 \nL 249.90175 220.282057 \nL 250.917747 218.513404 \nL 251.788601 218.236116 \nL 252.006315 217.959368 \nL 252.441742 218.604149 \nL 253.240025 220.330677 \nL 253.312596 220.013048 \nL 257.449155 219.154477 \nL 258.102296 218.186758 \nL 258.97315 219.158413 \nL 259.916576 219.028631 \nL 260.932573 219.386438 \nL 261.368 220.012207 \nL 261.658285 220.676681 \nL 264.198277 220.216977 \nL 264.923989 219.287813 \nL 269.060548 220.091989 \nL 270.076545 218.874364 \nL 270.802257 219.849429 \nL 271.01997 219.495854 \nL 271.673111 220.168713 \nL 273.850248 220.86013 \nL 276.898238 221.099132 \nL 277.62395 219.750486 \nL 277.841664 218.954537 \nL 278.639947 219.605551 \nL 279.365659 220.46873 \nL 279.946229 220.2076 \nL 282.41365 219.424187 \nL 282.776506 220.145336 \nL 283.937645 221.196416 \nL 284.445644 221.029177 \nL 285.389069 220.462432 \nL 288.43706 219.175484 \nL 289.598199 219.63874 \nL 292.06562 220.277045 \nL 292.573619 220.568092 \nL 292.936475 219.496012 \nL 293.444473 219.333594 \nL 293.517044 219.123021 \nL 294.025043 221.085643 \nL 296.492464 220.861556 \nL 296.637606 220.167878 \nL 297.073033 221.444687 \nL 299.105027 220.987664 \nL 299.250169 221.680674 \nL 301.645019 222.441125 \nL 302.588445 224.011697 \nL 304.69301 223.18881 \nL 304.765581 223.321972 \nL 305.563864 223.033321 \nL 308.394141 222.781957 \nL 311.659846 222.603912 \nL 311.732417 222.951742 \nL 313.183841 222.302766 \nL 313.256412 222.119625 \nL 314.92555 219.536288 \nL 315.50612 219.019845 \nL 316.957544 219.662792 \nL 317.3204 219.212272 \nL 318.046112 217.156471 \nL 318.481539 216.435073 \nL 320.586104 212.032009 \nL 321.021531 209.698182 \nL 321.456958 205.188444 \nL 322.835811 202.760011 \nL 323.634095 207.645161 \nL 325.085519 212.956114 \nL 325.666088 214.328112 \nL 326.609514 206.463548 \nL 328.714079 204.332854 \nL 328.931793 203.558745 \nL 330.092932 201.343192 \nL 332.705495 185.025915 \nL 333.068351 181.173144 \nL 335.027774 183.945387 \nL 336.188913 160.480892 \nL 337.640337 156.139253 \nL 338.801477 157.892468 \nL 339.236904 161.280399 \nL 339.744902 155.24724 \nL 341.922038 164.437434 \nL 342.792893 137.775552 \nL 344.462031 120.428361 \nL 344.679744 122.088875 \nL 345.768312 109.805604 \nL 347.510021 98.426983 \nL 347.727735 95.738759 \nL 347.800306 87.882198 \nL 349.034017 101.651616 \nL 349.396873 111.561984 \nL 354.839713 125.237639 \nL 356.653993 133.53901 \nL 357.524848 131.789359 \nL 360.137411 123.553494 \nL 360.645409 119.988778 \nL 363.983685 111.891013 \nL 366.160821 97.315214 \nL 367.249389 54.901049 \nL 367.612245 34.84725 \nL 369.063669 37.987703 \nL 370.805378 76.202715 \nL 372.329374 59.361022 \nL 372.909943 59.838204 \nL 372.909943 59.838204 \n\" clip-path=\"url(#p2cc1d134c3)\" style=\"fill: none; stroke: #ff7f0e; stroke-width: 1.5; stroke-linecap: square\"/>\n   </g>\n   <g id=\"patch_3\">\n    <path d=\"M 53.328125 239.758125 \nL 53.328125 22.318125 \n\" style=\"fill: none; stroke: #000000; stroke-width: 0.8; stroke-linejoin: miter; stroke-linecap: square\"/>\n   </g>\n   <g id=\"patch_4\">\n    <path d=\"M 388.128125 239.758125 \nL 388.128125 22.318125 \n\" style=\"fill: none; stroke: #000000; stroke-width: 0.8; stroke-linejoin: miter; stroke-linecap: square\"/>\n   </g>\n   <g id=\"patch_5\">\n    <path d=\"M 53.328125 239.758125 \nL 388.128125 239.758125 \n\" style=\"fill: none; stroke: #000000; stroke-width: 0.8; stroke-linejoin: miter; stroke-linecap: square\"/>\n   </g>\n   <g id=\"patch_6\">\n    <path d=\"M 53.328125 22.318125 \nL 388.128125 22.318125 \n\" style=\"fill: none; stroke: #000000; stroke-width: 0.8; stroke-linejoin: miter; stroke-linecap: square\"/>\n   </g>\n   <g id=\"text_17\">\n    <!-- Prediction by LSTM -->\n    <g transform=\"translate(163.75625 16.318125)scale(0.12 -0.12)\">\n     <defs>\n      <path id=\"DejaVuSans-50\" d=\"M 1259 4147 \nL 1259 2394 \nL 2053 2394 \nQ 2494 2394 2734 2622 \nQ 2975 2850 2975 3272 \nQ 2975 3691 2734 3919 \nQ 2494 4147 2053 4147 \nL 1259 4147 \nz\nM 628 4666 \nL 2053 4666 \nQ 2838 4666 3239 4311 \nQ 3641 3956 3641 3272 \nQ 3641 2581 3239 2228 \nQ 2838 1875 2053 1875 \nL 1259 1875 \nL 1259 0 \nL 628 0 \nL 628 4666 \nz\n\" transform=\"scale(0.015625)\"/>\n      <path id=\"DejaVuSans-72\" d=\"M 2631 2963 \nQ 2534 3019 2420 3045 \nQ 2306 3072 2169 3072 \nQ 1681 3072 1420 2755 \nQ 1159 2438 1159 1844 \nL 1159 0 \nL 581 0 \nL 581 3500 \nL 1159 3500 \nL 1159 2956 \nQ 1341 3275 1631 3429 \nQ 1922 3584 2338 3584 \nQ 2397 3584 2469 3576 \nQ 2541 3569 2628 3553 \nL 2631 2963 \nz\n\" transform=\"scale(0.015625)\"/>\n      <path id=\"DejaVuSans-74\" d=\"M 1172 4494 \nL 1172 3500 \nL 2356 3500 \nL 2356 3053 \nL 1172 3053 \nL 1172 1153 \nQ 1172 725 1289 603 \nQ 1406 481 1766 481 \nL 2356 481 \nL 2356 0 \nL 1766 0 \nQ 1100 0 847 248 \nQ 594 497 594 1153 \nL 594 3053 \nL 172 3053 \nL 172 3500 \nL 594 3500 \nL 594 4494 \nL 1172 4494 \nz\n\" transform=\"scale(0.015625)\"/>\n      <path id=\"DejaVuSans-6f\" d=\"M 1959 3097 \nQ 1497 3097 1228 2736 \nQ 959 2375 959 1747 \nQ 959 1119 1226 758 \nQ 1494 397 1959 397 \nQ 2419 397 2687 759 \nQ 2956 1122 2956 1747 \nQ 2956 2369 2687 2733 \nQ 2419 3097 1959 3097 \nz\nM 1959 3584 \nQ 2709 3584 3137 3096 \nQ 3566 2609 3566 1747 \nQ 3566 888 3137 398 \nQ 2709 -91 1959 -91 \nQ 1206 -91 779 398 \nQ 353 888 353 1747 \nQ 353 2609 779 3096 \nQ 1206 3584 1959 3584 \nz\n\" transform=\"scale(0.015625)\"/>\n      <path id=\"DejaVuSans-6e\" d=\"M 3513 2113 \nL 3513 0 \nL 2938 0 \nL 2938 2094 \nQ 2938 2591 2744 2837 \nQ 2550 3084 2163 3084 \nQ 1697 3084 1428 2787 \nQ 1159 2491 1159 1978 \nL 1159 0 \nL 581 0 \nL 581 3500 \nL 1159 3500 \nL 1159 2956 \nQ 1366 3272 1645 3428 \nQ 1925 3584 2291 3584 \nQ 2894 3584 3203 3211 \nQ 3513 2838 3513 2113 \nz\n\" transform=\"scale(0.015625)\"/>\n      <path id=\"DejaVuSans-62\" d=\"M 3116 1747 \nQ 3116 2381 2855 2742 \nQ 2594 3103 2138 3103 \nQ 1681 3103 1420 2742 \nQ 1159 2381 1159 1747 \nQ 1159 1113 1420 752 \nQ 1681 391 2138 391 \nQ 2594 391 2855 752 \nQ 3116 1113 3116 1747 \nz\nM 1159 2969 \nQ 1341 3281 1617 3432 \nQ 1894 3584 2278 3584 \nQ 2916 3584 3314 3078 \nQ 3713 2572 3713 1747 \nQ 3713 922 3314 415 \nQ 2916 -91 2278 -91 \nQ 1894 -91 1617 61 \nQ 1341 213 1159 525 \nL 1159 0 \nL 581 0 \nL 581 4863 \nL 1159 4863 \nL 1159 2969 \nz\n\" transform=\"scale(0.015625)\"/>\n      <path id=\"DejaVuSans-79\" d=\"M 2059 -325 \nQ 1816 -950 1584 -1140 \nQ 1353 -1331 966 -1331 \nL 506 -1331 \nL 506 -850 \nL 844 -850 \nQ 1081 -850 1212 -737 \nQ 1344 -625 1503 -206 \nL 1606 56 \nL 191 3500 \nL 800 3500 \nL 1894 763 \nL 2988 3500 \nL 3597 3500 \nL 2059 -325 \nz\n\" transform=\"scale(0.015625)\"/>\n      <path id=\"DejaVuSans-4c\" d=\"M 628 4666 \nL 1259 4666 \nL 1259 531 \nL 3531 531 \nL 3531 0 \nL 628 0 \nL 628 4666 \nz\n\" transform=\"scale(0.015625)\"/>\n      <path id=\"DejaVuSans-4d\" d=\"M 628 4666 \nL 1569 4666 \nL 2759 1491 \nL 3956 4666 \nL 4897 4666 \nL 4897 0 \nL 4281 0 \nL 4281 4097 \nL 3078 897 \nL 2444 897 \nL 1241 4097 \nL 1241 0 \nL 628 0 \nL 628 4666 \nz\n\" transform=\"scale(0.015625)\"/>\n     </defs>\n     <use xlink:href=\"#DejaVuSans-50\"/>\n     <use xlink:href=\"#DejaVuSans-72\" x=\"58.552734\"/>\n     <use xlink:href=\"#DejaVuSans-65\" x=\"97.416016\"/>\n     <use xlink:href=\"#DejaVuSans-64\" x=\"158.939453\"/>\n     <use xlink:href=\"#DejaVuSans-69\" x=\"222.416016\"/>\n     <use xlink:href=\"#DejaVuSans-63\" x=\"250.199219\"/>\n     <use xlink:href=\"#DejaVuSans-74\" x=\"305.179688\"/>\n     <use xlink:href=\"#DejaVuSans-69\" x=\"344.388672\"/>\n     <use xlink:href=\"#DejaVuSans-6f\" x=\"372.171875\"/>\n     <use xlink:href=\"#DejaVuSans-6e\" x=\"433.353516\"/>\n     <use xlink:href=\"#DejaVuSans-20\" x=\"496.732422\"/>\n     <use xlink:href=\"#DejaVuSans-62\" x=\"528.519531\"/>\n     <use xlink:href=\"#DejaVuSans-79\" x=\"591.996094\"/>\n     <use xlink:href=\"#DejaVuSans-20\" x=\"651.175781\"/>\n     <use xlink:href=\"#DejaVuSans-4c\" x=\"682.962891\"/>\n     <use xlink:href=\"#DejaVuSans-53\" x=\"738.675781\"/>\n     <use xlink:href=\"#DejaVuSans-54\" x=\"802.152344\"/>\n     <use xlink:href=\"#DejaVuSans-4d\" x=\"863.236328\"/>\n    </g>\n   </g>\n   <g id=\"legend_1\">\n    <g id=\"patch_7\">\n     <path d=\"M 60.328125 59.674375 \nL 149.625 59.674375 \nQ 151.625 59.674375 151.625 57.674375 \nL 151.625 29.318125 \nQ 151.625 27.318125 149.625 27.318125 \nL 60.328125 27.318125 \nQ 58.328125 27.318125 58.328125 29.318125 \nL 58.328125 57.674375 \nQ 58.328125 59.674375 60.328125 59.674375 \nz\n\" style=\"fill: #ffffff; opacity: 0.8; stroke: #cccccc; stroke-linejoin: miter\"/>\n    </g>\n    <g id=\"line2d_17\">\n     <path d=\"M 62.328125 35.416562 \nL 72.328125 35.416562 \nL 82.328125 35.416562 \n\" style=\"fill: none; stroke: #1f77b4; stroke-width: 1.5; stroke-linecap: square\"/>\n    </g>\n    <g id=\"text_18\">\n     <!-- True Value -->\n     <g transform=\"translate(90.328125 38.916562)scale(0.1 -0.1)\">\n      <defs>\n       <path id=\"DejaVuSans-75\" d=\"M 544 1381 \nL 544 3500 \nL 1119 3500 \nL 1119 1403 \nQ 1119 906 1312 657 \nQ 1506 409 1894 409 \nQ 2359 409 2629 706 \nQ 2900 1003 2900 1516 \nL 2900 3500 \nL 3475 3500 \nL 3475 0 \nL 2900 0 \nL 2900 538 \nQ 2691 219 2414 64 \nQ 2138 -91 1772 -91 \nQ 1169 -91 856 284 \nQ 544 659 544 1381 \nz\nM 1991 3584 \nL 1991 3584 \nz\n\" transform=\"scale(0.015625)\"/>\n       <path id=\"DejaVuSans-56\" d=\"M 1831 0 \nL 50 4666 \nL 709 4666 \nL 2188 738 \nL 3669 4666 \nL 4325 4666 \nL 2547 0 \nL 1831 0 \nz\n\" transform=\"scale(0.015625)\"/>\n      </defs>\n      <use xlink:href=\"#DejaVuSans-54\"/>\n      <use xlink:href=\"#DejaVuSans-72\" x=\"46.333984\"/>\n      <use xlink:href=\"#DejaVuSans-75\" x=\"87.447266\"/>\n      <use xlink:href=\"#DejaVuSans-65\" x=\"150.826172\"/>\n      <use xlink:href=\"#DejaVuSans-20\" x=\"212.349609\"/>\n      <use xlink:href=\"#DejaVuSans-56\" x=\"244.136719\"/>\n      <use xlink:href=\"#DejaVuSans-61\" x=\"304.794922\"/>\n      <use xlink:href=\"#DejaVuSans-6c\" x=\"366.074219\"/>\n      <use xlink:href=\"#DejaVuSans-75\" x=\"393.857422\"/>\n      <use xlink:href=\"#DejaVuSans-65\" x=\"457.236328\"/>\n     </g>\n    </g>\n    <g id=\"line2d_18\">\n     <path d=\"M 62.328125 50.094687 \nL 72.328125 50.094687 \nL 82.328125 50.094687 \n\" style=\"fill: none; stroke: #ff7f0e; stroke-width: 1.5; stroke-linecap: square\"/>\n    </g>\n    <g id=\"text_19\">\n     <!-- LSTM Value -->\n     <g transform=\"translate(90.328125 53.594687)scale(0.1 -0.1)\">\n      <use xlink:href=\"#DejaVuSans-4c\"/>\n      <use xlink:href=\"#DejaVuSans-53\" x=\"55.712891\"/>\n      <use xlink:href=\"#DejaVuSans-54\" x=\"119.189453\"/>\n      <use xlink:href=\"#DejaVuSans-4d\" x=\"180.273438\"/>\n      <use xlink:href=\"#DejaVuSans-20\" x=\"266.552734\"/>\n      <use xlink:href=\"#DejaVuSans-56\" x=\"298.339844\"/>\n      <use xlink:href=\"#DejaVuSans-61\" x=\"358.998047\"/>\n      <use xlink:href=\"#DejaVuSans-6c\" x=\"420.277344\"/>\n      <use xlink:href=\"#DejaVuSans-75\" x=\"448.060547\"/>\n      <use xlink:href=\"#DejaVuSans-65\" x=\"511.439453\"/>\n     </g>\n    </g>\n   </g>\n  </g>\n </g>\n <defs>\n  <clipPath id=\"p2cc1d134c3\">\n   <rect x=\"53.328125\" y=\"22.318125\" width=\"334.8\" height=\"217.44\"/>\n  </clipPath>\n </defs>\n</svg>\n",
      "text/plain": [
       "<Figure size 432x288 with 1 Axes>"
      ]
     },
     "metadata": {
      "needs_background": "light"
     },
     "output_type": "display_data"
    },
    {
     "data": {
      "application/javascript": "\n            setTimeout(function() {\n                var nbb_cell_id = 24;\n                var nbb_unformatted_code = \"plt.plot(Y_test, label=\\\"True Value\\\")\\nplt.plot(Y_pred, label=\\\"LSTM Value\\\")\\nplt.title(\\\"Prediction by LSTM\\\")\\nplt.xlabel(\\\"Time Scale\\\")\\nplt.ylabel(\\\"Scaled USD\\\")\\nplt.legend()\\nplt.show()\";\n                var nbb_formatted_code = \"plt.plot(Y_test, label=\\\"True Value\\\")\\nplt.plot(Y_pred, label=\\\"LSTM Value\\\")\\nplt.title(\\\"Prediction by LSTM\\\")\\nplt.xlabel(\\\"Time Scale\\\")\\nplt.ylabel(\\\"Scaled USD\\\")\\nplt.legend()\\nplt.show()\";\n                var nbb_cells = Jupyter.notebook.get_cells();\n                for (var i = 0; i < nbb_cells.length; ++i) {\n                    if (nbb_cells[i].input_prompt_number == nbb_cell_id) {\n                        if (nbb_cells[i].get_text() == nbb_unformatted_code) {\n                             nbb_cells[i].set_text(nbb_formatted_code);\n                        }\n                        break;\n                    }\n                }\n            }, 500);\n            ",
      "text/plain": [
       "<IPython.core.display.Javascript object>"
      ]
     },
     "metadata": {},
     "output_type": "display_data"
    }
   ],
   "source": [
    "plt.plot(Y_test, label=\"True Value\")\n",
    "plt.plot(Y_pred, label=\"LSTM Value\")\n",
    "plt.title(\"Prediction by LSTM\")\n",
    "plt.xlabel(\"Time Scale\")\n",
    "plt.ylabel(\"Scaled USD\")\n",
    "plt.legend()\n",
    "plt.show()"
   ]
  },
  {
   "cell_type": "code",
   "execution_count": 19,
   "metadata": {},
   "outputs": [
    {
     "data": {
      "text/html": [
       "<div>\n",
       "<style scoped>\n",
       "    .dataframe tbody tr th:only-of-type {\n",
       "        vertical-align: middle;\n",
       "    }\n",
       "\n",
       "    .dataframe tbody tr th {\n",
       "        vertical-align: top;\n",
       "    }\n",
       "\n",
       "    .dataframe thead th {\n",
       "        text-align: right;\n",
       "    }\n",
       "</style>\n",
       "<table border=\"1\" class=\"dataframe\">\n",
       "  <thead>\n",
       "    <tr style=\"text-align: right;\">\n",
       "      <th></th>\n",
       "      <th>Adj Close</th>\n",
       "    </tr>\n",
       "    <tr>\n",
       "      <th>Date</th>\n",
       "      <th></th>\n",
       "    </tr>\n",
       "  </thead>\n",
       "  <tbody>\n",
       "    <tr>\n",
       "      <th>2010-07-22</th>\n",
       "      <td>4.200000</td>\n",
       "    </tr>\n",
       "    <tr>\n",
       "      <th>2010-07-30</th>\n",
       "      <td>3.988000</td>\n",
       "    </tr>\n",
       "    <tr>\n",
       "      <th>2010-08-13</th>\n",
       "      <td>3.664000</td>\n",
       "    </tr>\n",
       "    <tr>\n",
       "      <th>2010-09-13</th>\n",
       "      <td>4.144000</td>\n",
       "    </tr>\n",
       "    <tr>\n",
       "      <th>2010-09-22</th>\n",
       "      <td>3.974000</td>\n",
       "    </tr>\n",
       "    <tr>\n",
       "      <th>...</th>\n",
       "      <td>...</td>\n",
       "    </tr>\n",
       "    <tr>\n",
       "      <th>2021-11-22</th>\n",
       "      <td>1156.869995</td>\n",
       "    </tr>\n",
       "    <tr>\n",
       "      <th>2021-12-14</th>\n",
       "      <td>958.510010</td>\n",
       "    </tr>\n",
       "    <tr>\n",
       "      <th>2021-12-16</th>\n",
       "      <td>926.919983</td>\n",
       "    </tr>\n",
       "    <tr>\n",
       "      <th>2022-01-06</th>\n",
       "      <td>1064.699951</td>\n",
       "    </tr>\n",
       "    <tr>\n",
       "      <th>2022-01-14</th>\n",
       "      <td>1049.609985</td>\n",
       "    </tr>\n",
       "  </tbody>\n",
       "</table>\n",
       "<p>293 rows × 1 columns</p>\n",
       "</div>"
      ],
      "text/plain": [
       "              Adj Close\n",
       "Date                   \n",
       "2010-07-22     4.200000\n",
       "2010-07-30     3.988000\n",
       "2010-08-13     3.664000\n",
       "2010-09-13     4.144000\n",
       "2010-09-22     3.974000\n",
       "...                 ...\n",
       "2021-11-22  1156.869995\n",
       "2021-12-14   958.510010\n",
       "2021-12-16   926.919983\n",
       "2022-01-06  1064.699951\n",
       "2022-01-14  1049.609985\n",
       "\n",
       "[293 rows x 1 columns]"
      ]
     },
     "execution_count": 19,
     "metadata": {},
     "output_type": "execute_result"
    },
    {
     "data": {
      "application/javascript": "\n            setTimeout(function() {\n                var nbb_cell_id = 19;\n                var nbb_unformatted_code = \"Y_test\";\n                var nbb_formatted_code = \"Y_test\";\n                var nbb_cells = Jupyter.notebook.get_cells();\n                for (var i = 0; i < nbb_cells.length; ++i) {\n                    if (nbb_cells[i].input_prompt_number == nbb_cell_id) {\n                        if (nbb_cells[i].get_text() == nbb_unformatted_code) {\n                             nbb_cells[i].set_text(nbb_formatted_code);\n                        }\n                        break;\n                    }\n                }\n            }, 500);\n            ",
      "text/plain": [
       "<IPython.core.display.Javascript object>"
      ]
     },
     "metadata": {},
     "output_type": "display_data"
    }
   ],
   "source": [
    "Y_test"
   ]
  },
  {
   "cell_type": "code",
   "execution_count": null,
   "metadata": {},
   "outputs": [],
   "source": []
  }
 ],
 "metadata": {
  "interpreter": {
   "hash": "8582c072e9555238d1b1db74b77dc7d36fa956d860455f5684e5db015c593b71"
  },
  "kernelspec": {
   "display_name": "Python 3.10.2 64-bit ('machine-learning': venv)",
   "language": "python",
   "name": "python3"
  },
  "language_info": {
   "codemirror_mode": {
    "name": "ipython",
    "version": 3
   },
   "file_extension": ".py",
   "mimetype": "text/x-python",
   "name": "python",
   "nbconvert_exporter": "python",
   "pygments_lexer": "ipython3",
   "version": "3.10.2"
  },
  "orig_nbformat": 4
 },
 "nbformat": 4,
 "nbformat_minor": 2
}
